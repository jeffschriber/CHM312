{
 "cells": [
  {
   "cell_type": "code",
   "execution_count": null,
   "id": "673ae256",
   "metadata": {},
   "outputs": [],
   "source": [
    "import numpy as np\n",
    "from numpy.polynomial import polynomial as P\n",
    "import matplotlib\n",
    "import matplotlib.pyplot as plt"
   ]
  },
  {
   "cell_type": "markdown",
   "id": "676f3415",
   "metadata": {},
   "source": [
    "# Vapor Pressures of Pure Liquids\n",
    "\n",
    "In this notebook, you will use your experimental data to determine values of $\\frac{\\bar{H}_{\\rm{v}}}{RZ}$ for the liquids studied."
   ]
  },
  {
   "cell_type": "markdown",
   "id": "b346e5f2",
   "metadata": {},
   "source": [
    "## Part 1. Water\n",
    "\n",
    " 1. In the cell below, input your raw pressure and temperature data"
   ]
  },
  {
   "cell_type": "code",
   "execution_count": null,
   "id": "16a129e9",
   "metadata": {},
   "outputs": [],
   "source": [
    "p_water = []\n",
    "\n",
    "T_water = []\n",
    "\n",
    "p_water = np.asarray(p_water)\n",
    "T_water = np.asarray(T_water)"
   ]
  },
  {
   "cell_type": "markdown",
   "id": "1e7e369a",
   "metadata": {},
   "source": [
    " 2. Now, in the cell below, convert these lists to the appropriate form for our plot (see the lab handout for details)."
   ]
  },
  {
   "cell_type": "code",
   "execution_count": null,
   "id": "17d57431",
   "metadata": {},
   "outputs": [],
   "source": []
  },
  {
   "cell_type": "markdown",
   "id": "786b54ee",
   "metadata": {},
   "source": [
    " 3. Fit the data using a linear regression. Be sure to store the output data (i.e., slope/intercept and statistical data) with descriptive names. Print the slope."
   ]
  },
  {
   "cell_type": "code",
   "execution_count": null,
   "id": "c2b59764",
   "metadata": {},
   "outputs": [],
   "source": []
  },
  {
   "cell_type": "markdown",
   "id": "647f6bb9",
   "metadata": {},
   "source": [
    " 4. Now we are going to compute the $R^2$ value to evaluate the goodness of the fit. Follow allong my comments to write the code to do that"
   ]
  },
  {
   "cell_type": "code",
   "execution_count": null,
   "id": "80918750",
   "metadata": {},
   "outputs": [],
   "source": [
    "### Let's get the R^2 value\n",
    "### Recall that R^2 = 1.0 - (sum of squared error)/(Sum of squared total)\n",
    "\n",
    "### We get the sum of squared error directly from our fitting function\n",
    "### I'll call it 'stats', but replace it with your variable name\n",
    "\n",
    "SSE = stats[0]\n",
    "\n",
    "### Now we need the sum of the squared total, which is the\n",
    "### sum of the squared differences between each y value and the average  of the y values\n",
    "\n",
    "## first get the mean of the y values\n",
    "mean = \n",
    "\n",
    "## then compute the difference between the mean and and each y value\n",
    "## This should be a list of values\n",
    "diff = \n",
    "\n",
    "## Now, square these values\n",
    "square_diff = \n",
    "\n",
    "## Compute the sum to get the sum of the squared total\n",
    "SST = \n",
    "\n",
    "## Lastly, compute R^2 using the equation at the beginning of this cell\n",
    "## Print it below\n",
    "\n",
    "R2 = \n",
    "\n"
   ]
  },
  {
   "cell_type": "markdown",
   "id": "c112eb0d",
   "metadata": {},
   "source": [
    " 5. Below, perform a second fit on this data, this time to a second order polynomial, of the form $y = a + bx + cx^2$"
   ]
  },
  {
   "cell_type": "code",
   "execution_count": null,
   "id": "6dc02b41",
   "metadata": {},
   "outputs": [],
   "source": []
  },
  {
   "cell_type": "markdown",
   "id": "f12fda3d",
   "metadata": {},
   "source": [
    " 6. Using the code you wrote above, compute the $R^2$ value for this quadratic fit. Print the value."
   ]
  },
  {
   "cell_type": "code",
   "execution_count": null,
   "id": "2b00427d",
   "metadata": {},
   "outputs": [],
   "source": []
  },
  {
   "cell_type": "markdown",
   "id": "b28157fd",
   "metadata": {},
   "source": [
    " 7. In the cells that follow, repeat these exact steps, but using p,V data obtained from the Antoine Equation. You can find the parameters online, and use the same T values from your experiment."
   ]
  },
  {
   "cell_type": "code",
   "execution_count": null,
   "id": "01eed1b5",
   "metadata": {},
   "outputs": [],
   "source": []
  },
  {
   "cell_type": "code",
   "execution_count": null,
   "id": "d6d892b0",
   "metadata": {},
   "outputs": [],
   "source": []
  },
  {
   "cell_type": "code",
   "execution_count": null,
   "id": "9027783d",
   "metadata": {},
   "outputs": [],
   "source": []
  },
  {
   "cell_type": "code",
   "execution_count": null,
   "id": "36733258",
   "metadata": {},
   "outputs": [],
   "source": []
  },
  {
   "cell_type": "code",
   "execution_count": null,
   "id": "147ed721",
   "metadata": {},
   "outputs": [],
   "source": []
  },
  {
   "cell_type": "code",
   "execution_count": null,
   "id": "ab7c0753",
   "metadata": {},
   "outputs": [],
   "source": []
  },
  {
   "cell_type": "markdown",
   "id": "8b408ca8",
   "metadata": {},
   "source": [
    "## Part 2. Acetone\n",
    "\n",
    " 1. In the cell below, input your raw pressure and temperature data"
   ]
  },
  {
   "cell_type": "code",
   "execution_count": null,
   "id": "d89b9c0f",
   "metadata": {},
   "outputs": [],
   "source": [
    "p_ac = []\n",
    "\n",
    "T_ac = []\n",
    "\n",
    "p_ac = np.asarray(p_ac)\n",
    "T_ac = np.asarray(T_ac)"
   ]
  },
  {
   "cell_type": "markdown",
   "id": "a0838a54",
   "metadata": {},
   "source": [
    " 2. Now, in the cell below, convert these lists to the appropriate form for our plot (see the lab handout for details)."
   ]
  },
  {
   "cell_type": "code",
   "execution_count": null,
   "id": "a86d3875",
   "metadata": {},
   "outputs": [],
   "source": []
  },
  {
   "cell_type": "markdown",
   "id": "0423074d",
   "metadata": {},
   "source": [
    " 3. Fit the data using a linear regression. Be sure to store the output data (i.e., slope/intercept and statistical data) with descriptive names. Print the slope."
   ]
  },
  {
   "cell_type": "code",
   "execution_count": null,
   "id": "e8dd801f",
   "metadata": {},
   "outputs": [],
   "source": []
  },
  {
   "cell_type": "markdown",
   "id": "d75197ee",
   "metadata": {},
   "source": [
    " 4. Now we are going to compute the $R^2$ value to evaluate the goodness of the fit. Follow allong my comments to write the code to do that"
   ]
  },
  {
   "cell_type": "code",
   "execution_count": null,
   "id": "e4bc1a42",
   "metadata": {},
   "outputs": [],
   "source": [
    "### Let's get the R^2 value\n",
    "### Recall that R^2 = 1.0 - (sum of squared error)/(Sum of squared total)\n",
    "\n",
    "### We get the sum of squared error directly from our fitting function\n",
    "### I'll call it 'stats', but replace it with your variable name\n",
    "\n",
    "SSE = stats[0]\n",
    "\n",
    "### Now we need the sum of the squared total, which is the\n",
    "### sum of the squared differences between each y value and the average  of the y values\n",
    "\n",
    "## first get the mean of the y values\n",
    "mean = \n",
    "\n",
    "## then compute the difference between the mean and and each y value\n",
    "## This should be a list of values\n",
    "diff = \n",
    "\n",
    "## Now, square these values\n",
    "square_diff = \n",
    "\n",
    "## Compute the sum to get the sum of the squared total\n",
    "SST = \n",
    "\n",
    "## Lastly, compute R^2 using the equation at the beginning of this cell\n",
    "## Print it below\n",
    "\n",
    "R2 = \n",
    "\n"
   ]
  },
  {
   "cell_type": "markdown",
   "id": "403caeaf",
   "metadata": {},
   "source": [
    " 5. Below, perform a second fit on this data, this time to a second order polynomial, of the form $y = a + bx + cx^2$"
   ]
  },
  {
   "cell_type": "code",
   "execution_count": null,
   "id": "d281b081",
   "metadata": {},
   "outputs": [],
   "source": []
  },
  {
   "cell_type": "markdown",
   "id": "692843f7",
   "metadata": {},
   "source": [
    " 6. Using the code you wrote above, compute the $R^2$ value for this quadratic fit. Print the value."
   ]
  },
  {
   "cell_type": "code",
   "execution_count": null,
   "id": "da38532c",
   "metadata": {},
   "outputs": [],
   "source": []
  },
  {
   "cell_type": "markdown",
   "id": "37925eca-b6eb-43aa-9f5d-0748c88de019",
   "metadata": {},
   "source": [
    " 7. In the cells that follow, repeat these exact steps, but using p,V data obtained from the Antoine Equation. You can find the parameters online, and use the same T values from your experiment."
   ]
  },
  {
   "cell_type": "code",
   "execution_count": null,
   "id": "f2c2763d-084a-4d5d-b911-baa845914f03",
   "metadata": {},
   "outputs": [],
   "source": []
  },
  {
   "cell_type": "code",
   "execution_count": null,
   "id": "bdee0850-728f-4529-8c7e-ae2d69660b66",
   "metadata": {},
   "outputs": [],
   "source": []
  },
  {
   "cell_type": "code",
   "execution_count": null,
   "id": "60728d8b-d697-4ade-8aa8-a02b976907f1",
   "metadata": {},
   "outputs": [],
   "source": []
  },
  {
   "cell_type": "code",
   "execution_count": null,
   "id": "d15a7ef3-d52d-4a16-9604-f4646f8e24d1",
   "metadata": {},
   "outputs": [],
   "source": []
  },
  {
   "cell_type": "code",
   "execution_count": null,
   "id": "56c2ed82-605f-4b68-9a31-df68a3f8fd9c",
   "metadata": {},
   "outputs": [],
   "source": []
  },
  {
   "cell_type": "code",
   "execution_count": null,
   "id": "eecf087e-ebd4-49c5-9b19-979292b3d8f3",
   "metadata": {},
   "outputs": [],
   "source": []
  },
  {
   "cell_type": "markdown",
   "id": "c5b7ea14",
   "metadata": {},
   "source": [
    "## Part 3. 2-butanone\n",
    "\n",
    " 1. In the cell below, input your raw pressure and temperature data"
   ]
  },
  {
   "cell_type": "code",
   "execution_count": null,
   "id": "48331b76",
   "metadata": {},
   "outputs": [],
   "source": [
    "p_bu = []\n",
    "\n",
    "T_bu = []\n",
    "\n",
    "p_bu = np.asarray(p_bu)\n",
    "T_bu = np.asarray(T_bu)"
   ]
  },
  {
   "cell_type": "markdown",
   "id": "df0340ae",
   "metadata": {},
   "source": [
    " 2. Now, in the cell below, convert these lists to the appropriate form for our plot (see the lab handout for details)."
   ]
  },
  {
   "cell_type": "code",
   "execution_count": null,
   "id": "210038f6",
   "metadata": {},
   "outputs": [],
   "source": []
  },
  {
   "cell_type": "markdown",
   "id": "8886c1d5",
   "metadata": {},
   "source": [
    " 3. Fit the data using a linear regression. Be sure to store the output data (i.e., slope/intercept and statistical data) with descriptive names. Print the slope."
   ]
  },
  {
   "cell_type": "code",
   "execution_count": null,
   "id": "163b60bc",
   "metadata": {},
   "outputs": [],
   "source": []
  },
  {
   "cell_type": "markdown",
   "id": "3ae012e8",
   "metadata": {},
   "source": [
    " 4. Now we are going to compute the $R^2$ value to evaluate the goodness of the fit. Follow allong my comments to write the code to do that"
   ]
  },
  {
   "cell_type": "code",
   "execution_count": null,
   "id": "16dbe4c6",
   "metadata": {},
   "outputs": [],
   "source": [
    "### Let's get the R^2 value\n",
    "### Recall that R^2 = 1.0 - (sum of squared error)/(Sum of squared total)\n",
    "\n",
    "### We get the sum of squared error directly from our fitting function\n",
    "### I'll call it 'stats', but replace it with your variable name\n",
    "\n",
    "SSE = stats[0]\n",
    "\n",
    "### Now we need the sum of the squared total, which is the\n",
    "### sum of the squared differences between each y value and the average  of the y values\n",
    "\n",
    "## first get the mean of the y values\n",
    "mean = \n",
    "\n",
    "## then compute the difference between the mean and and each y value\n",
    "## This should be a list of values\n",
    "diff = \n",
    "\n",
    "## Now, square these values\n",
    "square_diff = \n",
    "\n",
    "## Compute the sum to get the sum of the squared total\n",
    "SST = \n",
    "\n",
    "## Lastly, compute R^2 using the equation at the beginning of this cell\n",
    "## Print it below\n",
    "\n",
    "R2 = \n",
    "\n"
   ]
  },
  {
   "cell_type": "markdown",
   "id": "893743ae",
   "metadata": {},
   "source": [
    " 5. Below, perform a second fit on this data, this time to a second order polynomial, of the form $y = a + bx + cx^2$"
   ]
  },
  {
   "cell_type": "code",
   "execution_count": null,
   "id": "36bda289",
   "metadata": {},
   "outputs": [],
   "source": []
  },
  {
   "cell_type": "markdown",
   "id": "f2c7f3c5",
   "metadata": {},
   "source": [
    " 6. Using the code you wrote above, compute the $R^2$ value for this quadratic fit. Print the value."
   ]
  },
  {
   "cell_type": "code",
   "execution_count": null,
   "id": "1c39ef73",
   "metadata": {},
   "outputs": [],
   "source": []
  },
  {
   "cell_type": "markdown",
   "id": "9f19d138-123e-40f2-9943-db4e553f72f5",
   "metadata": {},
   "source": [
    " 7. In the cells that follow, repeat these exact steps, but using p,V data obtained from the Antoine Equation. You can find the parameters online, and use the same T values from your experiment."
   ]
  },
  {
   "cell_type": "code",
   "execution_count": null,
   "id": "b4d2fe9e-88f4-4739-8b5e-e8a80e708d47",
   "metadata": {},
   "outputs": [],
   "source": []
  },
  {
   "cell_type": "code",
   "execution_count": null,
   "id": "d5ed61ec-2bbd-41e2-99d0-c3d47d812d92",
   "metadata": {},
   "outputs": [],
   "source": []
  },
  {
   "cell_type": "code",
   "execution_count": null,
   "id": "8743ddc8-72a6-49d2-b07b-b1a0ab641691",
   "metadata": {},
   "outputs": [],
   "source": []
  },
  {
   "cell_type": "code",
   "execution_count": null,
   "id": "62c32b7b-5ced-4154-9558-9663fdf3ef53",
   "metadata": {},
   "outputs": [],
   "source": []
  },
  {
   "cell_type": "code",
   "execution_count": null,
   "id": "8524380d-717b-4e2d-bb7b-6bf0b951ddab",
   "metadata": {},
   "outputs": [],
   "source": []
  },
  {
   "cell_type": "code",
   "execution_count": null,
   "id": "0b7ecb1a-ca02-41b3-a014-f6b38e6d0f33",
   "metadata": {},
   "outputs": [],
   "source": []
  },
  {
   "cell_type": "markdown",
   "id": "1e7f1240",
   "metadata": {},
   "source": [
    "## Part 4. n-heptane\n",
    "\n",
    " 1. In the cell below, input your raw pressure and temperature data"
   ]
  },
  {
   "cell_type": "code",
   "execution_count": null,
   "id": "8ee5563e",
   "metadata": {},
   "outputs": [],
   "source": [
    "p_h = []\n",
    "\n",
    "T_h = []\n",
    "\n",
    "p_h = np.asarray(p_h)\n",
    "T_h = np.asarray(T_h)"
   ]
  },
  {
   "cell_type": "markdown",
   "id": "7abfa3c3",
   "metadata": {},
   "source": [
    " 2. Now, in the cell below, convert these lists to the appropriate form for our plot (see the lab handout for details)."
   ]
  },
  {
   "cell_type": "code",
   "execution_count": null,
   "id": "2e1683f6",
   "metadata": {},
   "outputs": [],
   "source": []
  },
  {
   "cell_type": "markdown",
   "id": "5ac1ccd6",
   "metadata": {},
   "source": [
    " 3. Fit the data using a linear regression. Be sure to store the output data (i.e., slope/intercept and statistical data) with descriptive names. Print the slope."
   ]
  },
  {
   "cell_type": "code",
   "execution_count": null,
   "id": "02f1e62e",
   "metadata": {},
   "outputs": [],
   "source": []
  },
  {
   "cell_type": "markdown",
   "id": "61f315cb",
   "metadata": {},
   "source": [
    " 4. Now we are going to compute the $R^2$ value to evaluate the goodness of the fit. Follow allong my comments to write the code to do that"
   ]
  },
  {
   "cell_type": "code",
   "execution_count": null,
   "id": "3dbdd8e8",
   "metadata": {},
   "outputs": [],
   "source": [
    "### Let's get the R^2 value\n",
    "### Recall that R^2 = 1.0 - (sum of squared error)/(Sum of squared total)\n",
    "\n",
    "### We get the sum of squared error directly from our fitting function\n",
    "### I'll call it 'stats', but replace it with your variable name\n",
    "\n",
    "SSE = stats[0]\n",
    "\n",
    "### Now we need the sum of the squared total, which is the\n",
    "### sum of the squared differences between each y value and the average  of the y values\n",
    "\n",
    "## first get the mean of the y values\n",
    "mean = \n",
    "\n",
    "## then compute the difference between the mean and and each y value\n",
    "## This should be a list of values\n",
    "diff = \n",
    "\n",
    "## Now, square these values\n",
    "square_diff = \n",
    "\n",
    "## Compute the sum to get the sum of the squared total\n",
    "SST = \n",
    "\n",
    "## Lastly, compute R^2 using the equation at the beginning of this cell\n",
    "## Print it below\n",
    "\n",
    "R2 = \n",
    "\n"
   ]
  },
  {
   "cell_type": "markdown",
   "id": "27914aaa",
   "metadata": {},
   "source": [
    " 5. Below, perform a second fit on this data, this time to a second order polynomial, of the form $y = a + bx + cx^2$"
   ]
  },
  {
   "cell_type": "code",
   "execution_count": null,
   "id": "80315d85",
   "metadata": {},
   "outputs": [],
   "source": []
  },
  {
   "cell_type": "markdown",
   "id": "b2323f62",
   "metadata": {},
   "source": [
    " 6. Using the code you wrote above, compute the $R^2$ value for this quadratic fit. Print the value."
   ]
  },
  {
   "cell_type": "code",
   "execution_count": null,
   "id": "9ea69896",
   "metadata": {},
   "outputs": [],
   "source": []
  },
  {
   "cell_type": "markdown",
   "id": "743cea8a-e618-48a5-b627-b50e08151980",
   "metadata": {},
   "source": [
    " 7. In the cells that follow, repeat these exact steps, but using p,V data obtained from the Antoine Equation. You can find the parameters online, and use the same T values from your experiment."
   ]
  },
  {
   "cell_type": "code",
   "execution_count": null,
   "id": "ae66c472-ce3c-4d37-b0ee-3e1b670ef9fe",
   "metadata": {},
   "outputs": [],
   "source": []
  },
  {
   "cell_type": "code",
   "execution_count": null,
   "id": "192ae121-d76e-4bad-bff8-eeaf813071ed",
   "metadata": {},
   "outputs": [],
   "source": []
  },
  {
   "cell_type": "code",
   "execution_count": null,
   "id": "c5a62e71-46e7-44c8-892c-13db1b537882",
   "metadata": {},
   "outputs": [],
   "source": []
  },
  {
   "cell_type": "code",
   "execution_count": null,
   "id": "7c42a190-4393-47e7-b08d-4cea0b94c67d",
   "metadata": {},
   "outputs": [],
   "source": []
  },
  {
   "cell_type": "code",
   "execution_count": null,
   "id": "6d344383-202a-405a-8568-728fac156590",
   "metadata": {},
   "outputs": [],
   "source": []
  },
  {
   "cell_type": "code",
   "execution_count": null,
   "id": "674c5d4b-9df5-4300-a7d1-c247257d5a35",
   "metadata": {},
   "outputs": [],
   "source": []
  },
  {
   "cell_type": "markdown",
   "id": "3dc5c54b",
   "metadata": {},
   "source": [
    "## Part 5. Gathering the Data and Questions\n",
    "\n",
    " 1. First, we'll tabulate our data. Complete the table below, be sure the specify the units."
   ]
  },
  {
   "cell_type": "markdown",
   "id": "c7d6c715",
   "metadata": {},
   "source": [
    "\n",
    "||$\\frac{\\Delta\\bar{H}_{v}}{Z}~\\rm{(Exp.)}$|$\\frac{\\Delta\\bar{S}_v}{Z}~\\rm{(Exp.)}$|$\\frac{\\Delta\\bar{H}_{v}}{Z}~\\rm{(Antoine)}$|$\\Delta\\bar{H}_{v}~\\rm{(Lit.)}$|$Z$|\n",
    "|-|-|-|-|-|-|\n",
    "|water      | | | | | |\n",
    "|acetone    | | | | | |\n",
    "|2-butanone | | | | | |\n",
    "|n-heptane  | | | | | |\n"
   ]
  },
  {
   "cell_type": "markdown",
   "id": "d1180c11",
   "metadata": {},
   "source": [
    " 2. Next, plot all of your vapor pressures on the same set of axes, being sure to label each plot with the chemical name and the source of the data."
   ]
  },
  {
   "cell_type": "code",
   "execution_count": null,
   "id": "8767673b",
   "metadata": {},
   "outputs": [],
   "source": []
  },
  {
   "cell_type": "markdown",
   "id": "743a66fb",
   "metadata": {},
   "source": [
    " 3. Now, plot ln(p) versus (1/T). Be sure that all units are the same across each liquid. Additionally, plot the trendline from your linear fits."
   ]
  },
  {
   "cell_type": "code",
   "execution_count": null,
   "id": "940a3312",
   "metadata": {},
   "outputs": [],
   "source": []
  },
  {
   "cell_type": "markdown",
   "id": "59e8564e",
   "metadata": {},
   "source": [
    "4. Discuss your experimental data. How well did each fit perform, was there significant variation from ideal behavor for any of the solutions? Did the linear or quadratic fits perform better, and what conclusions can we draw from that?"
   ]
  },
  {
   "cell_type": "markdown",
   "id": "6a7334b1",
   "metadata": {},
   "source": []
  },
  {
   "cell_type": "markdown",
   "id": "a9c208b6",
   "metadata": {},
   "source": [
    " 5. How do your values of $\\frac{\\Delta\\bar{S}_v}{Z}$ compare with Trouton's rule? "
   ]
  },
  {
   "cell_type": "markdown",
   "id": "65a9bd72",
   "metadata": {},
   "source": []
  },
  {
   "cell_type": "markdown",
   "id": "c767929e",
   "metadata": {},
   "source": [
    " 6. Discuss sources of error in your experiment. In what way do you think they would affect your data? Would you anticipate any bias in the data? Use your data for water as an example."
   ]
  },
  {
   "cell_type": "markdown",
   "id": "80b6a994",
   "metadata": {},
   "source": []
  },
  {
   "cell_type": "markdown",
   "id": "dc4def2a",
   "metadata": {},
   "source": [
    " 7. How do the vapor pressures at room temperature for our four liquids compare? Are any of them significantly different from the rest, why might that be? "
   ]
  },
  {
   "cell_type": "markdown",
   "id": "60f80ff6",
   "metadata": {},
   "source": []
  },
  {
   "cell_type": "markdown",
   "id": "8fe81fd8",
   "metadata": {},
   "source": [
    " 8. Acetone and 2-butanone are structurally very similar. How do their vapor pressures and enthalpies of vaporization compare? What do you think is causing any differences?"
   ]
  },
  {
   "cell_type": "markdown",
   "id": "164b9f07",
   "metadata": {},
   "source": []
  },
  {
   "cell_type": "markdown",
   "id": "b6616e95",
   "metadata": {},
   "source": [
    " 9. Of the four vapors, which do you think behaves most like an ideal gas? Use your data and any theoretical arguments to support your reasoning."
   ]
  },
  {
   "cell_type": "markdown",
   "id": "83ee4384",
   "metadata": {},
   "source": []
  },
  {
   "cell_type": "markdown",
   "id": "082ae55f-b5aa-4b2b-91c2-75764449fb28",
   "metadata": {},
   "source": [
    "10. How well did your data agree with the data obtained from the Antoine equation? "
   ]
  },
  {
   "cell_type": "markdown",
   "id": "63d3479a-e7f1-4979-979f-5ecf264c205b",
   "metadata": {},
   "source": []
  },
  {
   "cell_type": "markdown",
   "id": "b772c698-883b-4442-a9d6-2afcf8cc7a01",
   "metadata": {},
   "source": [
    "11. Thinking back to question 8, devise a computational procedure further investigate the source of the different vapor pressures of acetone and 2-butanone. What information does your procedure uncover?"
   ]
  },
  {
   "cell_type": "markdown",
   "id": "f962f605-487f-4cc0-9929-3bd557456057",
   "metadata": {},
   "source": []
  }
 ],
 "metadata": {
  "kernelspec": {
   "display_name": "Python 3 (ipykernel)",
   "language": "python",
   "name": "python3"
  },
  "language_info": {
   "codemirror_mode": {
    "name": "ipython",
    "version": 3
   },
   "file_extension": ".py",
   "mimetype": "text/x-python",
   "name": "python",
   "nbconvert_exporter": "python",
   "pygments_lexer": "ipython3",
   "version": "3.9.18"
  }
 },
 "nbformat": 4,
 "nbformat_minor": 5
}
