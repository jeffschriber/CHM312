{
 "cells": [
  {
   "cell_type": "code",
   "execution_count": null,
   "id": "20479533",
   "metadata": {},
   "outputs": [],
   "source": [
    "import numpy as np\n",
    "from numpy.polynomial import polynomial as P\n",
    "import matplotlib\n",
    "import matplotlib.pyplot as plt"
   ]
  },
  {
   "cell_type": "markdown",
   "id": "434caf57",
   "metadata": {},
   "source": [
    "# Liquid-Vapor Phase Diagram of Binary Mixtures\n",
    "\n"
   ]
  },
  {
   "cell_type": "markdown",
   "id": "6ab495e6",
   "metadata": {},
   "source": [
    "## 1. Acetone-Chloroform Mixture \n",
    "\n",
    "In the cell below, you will find three lists, taked from the Dortmund database. The `temps` list are temperatures, `x` represents the mole fraction of acetone in the liquid phase, and `y` is the mole fraction of acetone in the vapor phase. The temperatures are in $K$, and the represent the boiling points of the mixture at each composition.\n"
   ]
  },
  {
   "cell_type": "code",
   "execution_count": null,
   "id": "7f850ba0",
   "metadata": {},
   "outputs": [],
   "source": [
    "temps = [335.75,336.65,337.25,337.55,336.95,335.85,334.65,333.45,332.15,331.05,330.15]\n",
    "x = [0.09800,0.18600,0.26600,0.36000,0.46800,0.57800,0.67300,0.75500,0.82700,0.89200,0.94900]\n",
    "y = [0.06000,0.14300,0.23000,0.36000,0.51400,0.64600,0.75100,0.83000,0.89000,0.93900,0.97500]\n",
    "\n",
    "temps = np.asarray(temps)\n",
    "x = np.asarray(x)\n",
    "y = np.asarray(y)"
   ]
  },
  {
   "cell_type": "markdown",
   "id": "df2fb7cf",
   "metadata": {},
   "source": [
    " 3. Now, let's take a look at how the data looks. In the cell below, plot the vapor and liquid compositions against the boiling points (so temperature is the $y$ axis). Be sure to label the two curves as vapor and liquid."
   ]
  },
  {
   "cell_type": "code",
   "execution_count": null,
   "id": "d9aee1dd",
   "metadata": {},
   "outputs": [],
   "source": []
  },
  {
   "cell_type": "markdown",
   "id": "3d872eb3",
   "metadata": {},
   "source": [
    "4. Looking at your plot, at what mole fraction is this mixture an azeotrope, and what is the corresponding boiling point?"
   ]
  },
  {
   "cell_type": "markdown",
   "id": "6e206f10",
   "metadata": {},
   "source": []
  },
  {
   "cell_type": "markdown",
   "id": "d3075cd9",
   "metadata": {},
   "source": [
    " 5. Using Dalton's law ($p_i = Y_ip_{tot}$), calculate the partial vapor pressure of acetone at each mole fraction. Store it in a list. Here, $Y_i$ is the mole fraction of the vapor phase, and we can assume $p_{tot}$ is equal to 1 bar."
   ]
  },
  {
   "cell_type": "code",
   "execution_count": null,
   "id": "fdf77f62",
   "metadata": {},
   "outputs": [],
   "source": []
  },
  {
   "cell_type": "markdown",
   "id": "cf371959",
   "metadata": {},
   "source": [
    " 6. The Antoine equation is an empirical formula that allows you to reliably calculate vapor pressures of pure liquids at a given temperature. The form of the equation is,\n",
    "$$\\log p^*_i = A - \\frac{B}{T+C}$$\n",
    " where $A$, $B$, and $C$ are tabulated parameters that can be found on the NIST webpage.\n",
    "\n",
    "For each of your temperature data points, calculate the vapor pressure of *pure* acetone using the Antoine equation. Be sure to use the cell below to calculate the values, don't just use a separate calculator and type them by hand."
   ]
  },
  {
   "cell_type": "code",
   "execution_count": null,
   "id": "c94558cc",
   "metadata": {},
   "outputs": [],
   "source": []
  },
  {
   "cell_type": "markdown",
   "id": "5996094b",
   "metadata": {},
   "source": [
    " 7. In the cell below, use the equation,\n",
    " $$\\gamma_i = \\frac{p_i}{\\chi_i p_i^*}$$\n",
    " to calculate the activity coefficent for each of our measurements. "
   ]
  },
  {
   "cell_type": "code",
   "execution_count": null,
   "id": "35aa2da4",
   "metadata": {},
   "outputs": [],
   "source": []
  },
  {
   "cell_type": "markdown",
   "id": "90860e0f",
   "metadata": {},
   "source": [
    " 8. Plot the activity coefficent vs the mole fraction for acetone. "
   ]
  },
  {
   "cell_type": "code",
   "execution_count": null,
   "id": "57434eb1",
   "metadata": {},
   "outputs": [],
   "source": []
  },
  {
   "cell_type": "markdown",
   "id": "b36da429",
   "metadata": {},
   "source": [
    " 9. In the cell below repeat steps 5-8, but using the mole fractions of chloroform rather that acetone. You should finish with a plot of activty coefficient vs mole fraction of chloroform."
   ]
  },
  {
   "cell_type": "code",
   "execution_count": null,
   "id": "e78db7de",
   "metadata": {},
   "outputs": [],
   "source": []
  },
  {
   "cell_type": "markdown",
   "id": "dd423740",
   "metadata": {},
   "source": [
    "## 2. Ethyl Acetate-Chloroform Mixture \n",
    "\n",
    "We will now repeat this procedure using an ethyl acetate-chloroform mixture. I'll provide all reference data, identical to part 1."
   ]
  },
  {
   "cell_type": "code",
   "execution_count": null,
   "id": "3385d8d1",
   "metadata": {},
   "outputs": [],
   "source": [
    "temps = [350.65,350.75,350.85,350.95,350.95,350.65,350.45,349.95,\n",
    "         349.15,348.25,347.85,346.65,344.95,343.55,342.05,340.85,338.75,336.85]\n",
    "x = [0.07100,0.11000,0.14000,0.17400,0.22300,0.25900,0.30100,\n",
    "     0.36500,0.44800,0.50400,0.52800,0.58100,0.65000,0.70400,0.75100,0.79000,0.85600,0.92200]\n",
    "y = [0.06400,0.10200,0.13400,0.17100,0.22700,0.27000,0.32300,\n",
    "     0.40800,0.52200,0.59600,0.62800,0.70000,0.78000,0.83900,0.87900,0.91000,0.95000,0.97800] \n",
    "\n",
    "temps = np.asarray(temps)\n",
    "x = np.asarray(x)\n",
    "y = np.asarray(y)"
   ]
  },
  {
   "cell_type": "markdown",
   "id": "83c12928",
   "metadata": {},
   "source": [
    " 3. Now, let's take a look at how the data looks. In the cell below, plot the vapor and liquid compositions against the boiling points. Be sure to label the two curves."
   ]
  },
  {
   "cell_type": "code",
   "execution_count": null,
   "id": "b9367e37",
   "metadata": {},
   "outputs": [],
   "source": []
  },
  {
   "cell_type": "markdown",
   "id": "740f7a2d",
   "metadata": {},
   "source": [
    "4. Looking at your plot, at what mole fraction is this mixture an azeotrope, and what is the corresponding boiling point?"
   ]
  },
  {
   "cell_type": "markdown",
   "id": "03ce13ff",
   "metadata": {},
   "source": []
  },
  {
   "cell_type": "markdown",
   "id": "cd5d506b",
   "metadata": {},
   "source": [
    " 5. Using Dalton's law ($p_i = Y_ip_{tot}$), calculate the vapor pressure of chloroform at each mole fraction. Store it in a list."
   ]
  },
  {
   "cell_type": "code",
   "execution_count": null,
   "id": "657a369c",
   "metadata": {},
   "outputs": [],
   "source": []
  },
  {
   "cell_type": "markdown",
   "id": "a762cce2",
   "metadata": {},
   "source": [
    " 6. The Antoine equation is an empirical formula that allows you to reliably calculate vapor pressures of pure liquids at a given temperature. The form of the equation is,\n",
    "$$\\log p^*_i = A - \\frac{B}{T+C}$$\n",
    " where $A$, $B$, and $C$ are tabulated parameters that can be found on the NIST webpage.\n",
    "\n",
    "For each of your temperature data points, calculate the vapor pressure of *pure* acetone using the Antoine equation. Be sure to use the cell below to calculate the values, don't just use a separate calculator and type them by hand."
   ]
  },
  {
   "cell_type": "code",
   "execution_count": null,
   "id": "6c307002",
   "metadata": {},
   "outputs": [],
   "source": []
  },
  {
   "cell_type": "markdown",
   "id": "b4bd0d66",
   "metadata": {},
   "source": [
    " 7. In the cell below, use the equation,\n",
    " $$\\gamma_i = \\frac{p_i}{\\chi_i p_i^*}$$\n",
    " to calculate the activity coefficent for each of our measurements. "
   ]
  },
  {
   "cell_type": "code",
   "execution_count": null,
   "id": "19d18fbb",
   "metadata": {},
   "outputs": [],
   "source": []
  },
  {
   "cell_type": "markdown",
   "id": "83dc5efc",
   "metadata": {},
   "source": [
    " 8. Plot the activity coefficent vs the mole fraction for chloroform. "
   ]
  },
  {
   "cell_type": "code",
   "execution_count": null,
   "id": "56693ce8",
   "metadata": {},
   "outputs": [],
   "source": []
  },
  {
   "cell_type": "markdown",
   "id": "9abbc021",
   "metadata": {},
   "source": [
    " 9. In the cell below repeat steps 5-8, finishing with a plot of activty coefficient vs mole fraction of ethyl acetate."
   ]
  },
  {
   "cell_type": "code",
   "execution_count": null,
   "id": "fdd0ad47",
   "metadata": {},
   "outputs": [],
   "source": []
  },
  {
   "cell_type": "markdown",
   "id": "fa24e8cf",
   "metadata": {},
   "source": [
    "## 3. Some Questions"
   ]
  },
  {
   "cell_type": "markdown",
   "id": "b875d763",
   "metadata": {},
   "source": [
    " 1. Based on the data above, would fractional distillation be a reasonable approach to separate any of the two solutions? Explain your reasoning."
   ]
  },
  {
   "cell_type": "markdown",
   "id": "3a2c9807",
   "metadata": {},
   "source": []
  },
  {
   "cell_type": "markdown",
   "id": "4deadb4f",
   "metadata": {},
   "source": [
    " 2. Are the vapor pressures at the azeotropic compositions of each mixture more or less than the vapor pressures predicted by Raoult's Law?"
   ]
  },
  {
   "cell_type": "markdown",
   "id": "26457050",
   "metadata": {},
   "source": []
  },
  {
   "cell_type": "markdown",
   "id": "7cbfc3b0",
   "metadata": {},
   "source": [
    " 3. Do the systems show positive or negative deviations from ideality?"
   ]
  },
  {
   "cell_type": "markdown",
   "id": "cd3ac165",
   "metadata": {},
   "source": []
  },
  {
   "cell_type": "markdown",
   "id": "3ef08e5c",
   "metadata": {},
   "source": [
    " 4. Based on the above data and your answers, what can be said about the relative interactions between all three species? What do you think may be the origins of these interactions?"
   ]
  },
  {
   "cell_type": "markdown",
   "id": "d344429c",
   "metadata": {},
   "source": []
  },
  {
   "cell_type": "markdown",
   "id": "661c9c7d",
   "metadata": {},
   "source": [
    " 5. Based on the activities, does either mixture appear to behave ideally?"
   ]
  },
  {
   "cell_type": "markdown",
   "id": "df75cb8d",
   "metadata": {},
   "source": []
  },
  {
   "cell_type": "markdown",
   "id": "b3b287cd",
   "metadata": {},
   "source": [
    "## 4. Let's test it out\n",
    "\n",
    "In the remainder of this exercise, we're going to use some computational tools to investigate the intermolecular forces that may be causing some non-ideal behavior in our mixtures.\n",
    "\n",
    "First, discuss with your lab group a protocol to do this. How might we measure the non-ideality of a mixture with computational tools?\n",
    "\n",
    "Once your group has a plan, discuss it with me. I'll provide guidance about which methods to use and some basics on how to use them.\n",
    "\n",
    "Finally, execute your plan. this may take more than the allotted time period, and that's fine. The point of this final exercise is to help prepare you for the final project in this course.\n",
    "\n",
    "There are no more questions from me to answer, but, after all of your computations, write a ~2 paragraph summary of what you did. Specifically, start with a short paragraph summarizing what your computational approach was, and what tools you used in this approach. Then, in 1 (or more) paragraph(s), summarize your results and relate them to the given experimental data. IN your discussion, you should reference energietic quantities and geometries."
   ]
  },
  {
   "cell_type": "code",
   "execution_count": null,
   "id": "57306d1f",
   "metadata": {},
   "outputs": [],
   "source": [
    "# I'll get you started:\n",
    "import psi4\n",
    "\n",
    "# For geometry optimizations, you'll want the following lines:\n",
    "# psi4.set_options({'frag_mode':'MULTI', 'freeze_core':'True', 'guess':'sad', 'G_CONVERGENCE':\"GAU_LOOSE\"})\n",
    "# psi4.optimize('b3lyp-d/6-31g')\n",
    "\n",
    "# For the SAPT computations, you'll want:\n",
    "# psi4.energy(\"SAPT0/aug-cc-pvdz\")"
   ]
  },
  {
   "cell_type": "code",
   "execution_count": null,
   "id": "5af5502e",
   "metadata": {},
   "outputs": [],
   "source": [
    "# Here are sample coordinates for the acetone-chloroform dimer\n",
    "# running this cell will optimize the dimer.\n",
    "\n",
    "## Notice how the coordinates are separated in two\n",
    "## This is telling the program that we have a dimer,\n",
    "## and it will just optimize the orientation of the two\n",
    "## molecules without editing the coordiates of each molecule, to save time\n",
    "## So, for any additional calculations, you'll need to generate\n",
    "## good coordinates for monomers, and then optimize the dimer as is done here\n",
    "## For acetone-chloroform, I've provided reasonable coordinates in this cell.\n",
    "## Run this cell to get a useable dimer geometry\n",
    "\n",
    "mol = psi4.geometry(\"\"\"\n",
    "0 1\n",
    "    C            2.718987760281    -0.443721639353    -0.432960018220\n",
    "    C            4.218634748236    -0.306356927536    -0.527646893174\n",
    "    C            2.176715849595    -1.713172146748     0.183127294647\n",
    "    H            2.115106222140    -1.583944418918     1.273345442775\n",
    "    H            2.834295611521    -2.565943716949    -0.017186233615\n",
    "    H            1.168776007529    -1.922099610701    -0.186426976515\n",
    "    H            4.682397356396    -0.515032342966     0.445551856037\n",
    "    H            4.487754588822     0.697051691327    -0.865413147394\n",
    "    H            4.612372004417    -1.048916178920    -1.236301759939\n",
    "    O            1.963374745948     0.463815498654    -0.833425437361\n",
    "--\n",
    "0 1\n",
    "    C           -0.914836872798     0.329090625521    -0.015906768207\n",
    "    CL          -0.681365684785     0.170372854111     1.824250909043\n",
    "    H            0.077148097450     0.468954953544    -0.451699284899\n",
    "    CL          -1.981404049741     1.777557029200    -0.424928823664\n",
    "    CL          -1.624823222052    -1.241249884018    -0.715929380043                 \n",
    "\n",
    "\"\"\")\n",
    "psi4.set_options({'frag_mode':'MULTI', 'freeze_core':'True', 'guess':'sad', 'G_CONVERGENCE':\"GAU_LOOSE\"})\n",
    "psi4.optimize('b3lyp-d/6-31g')"
   ]
  },
  {
   "cell_type": "code",
   "execution_count": null,
   "id": "cfd1f31d",
   "metadata": {},
   "outputs": [],
   "source": [
    "# Now, we can use a single method called SAPT0 to get the interaction energy directly\n",
    "# this also gives the value of the components, which is useful for interpretation\n",
    "\n",
    "# Input your optimized coordinates here, and then run the cell\n",
    "# be sure that you are using -- to specify the dimer\n",
    "mol = psi4.geometry(\"\"\"\n",
    "\n",
    "\"\"\")\n",
    "\n",
    "psi4.energy(\"SAPT0/jun-cc-pvdz\")"
   ]
  },
  {
   "cell_type": "markdown",
   "id": "2e190cfd-361e-4d9d-bb83-c301afcf2894",
   "metadata": {},
   "source": [
    "To analyze the SAPT output, go to the very bottom. The total interaction energy is listed as \"Total SAPT0\", and the values of the components (Electrostatics, Exchange, Induction, and Dispersion) are listed as well, on the same line (ignore the sub-components like \"Exch10\"). IF you add all component energies, you get the total.  "
   ]
  },
  {
   "cell_type": "code",
   "execution_count": null,
   "id": "7910f5bc-95f8-4311-9059-e43383085a77",
   "metadata": {},
   "outputs": [],
   "source": []
  }
 ],
 "metadata": {
  "kernelspec": {
   "display_name": "Python 3 (ipykernel)",
   "language": "python",
   "name": "python3"
  },
  "language_info": {
   "codemirror_mode": {
    "name": "ipython",
    "version": 3
   },
   "file_extension": ".py",
   "mimetype": "text/x-python",
   "name": "python",
   "nbconvert_exporter": "python",
   "pygments_lexer": "ipython3",
   "version": "3.9.18"
  }
 },
 "nbformat": 4,
 "nbformat_minor": 5
}
