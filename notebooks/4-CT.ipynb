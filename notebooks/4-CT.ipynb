{
 "cells": [
  {
   "cell_type": "code",
   "execution_count": 1,
   "id": "d20c49ad-0ea8-44fd-9edb-46e617115275",
   "metadata": {},
   "outputs": [],
   "source": [
    "import numpy as np"
   ]
  },
  {
   "cell_type": "markdown",
   "id": "90a71598",
   "metadata": {},
   "source": [
    "# Activity 6: Charge-Transfer Equilibria in Solution\n",
    "\n",
    "Adapted from Baum, Marzzacco, and Kendrow, J. Chem. Ed., 2009, 86, 1330-1334"
   ]
  },
  {
   "cell_type": "markdown",
   "id": "4e7fd1cc",
   "metadata": {},
   "source": [
    "## Part 1: toluene data"
   ]
  },
  {
   "cell_type": "markdown",
   "id": "afc0013a",
   "metadata": {},
   "source": [
    "1. Calculate $a'$ for each of your spectra by subtracting the absorbance of solution 1 at the selected wavelength from each absorbance value. Store them in a list."
   ]
  },
  {
   "cell_type": "code",
   "execution_count": null,
   "id": "98a6f5ee",
   "metadata": {},
   "outputs": [],
   "source": []
  },
  {
   "cell_type": "markdown",
   "id": "7c15e9db",
   "metadata": {},
   "source": [
    "2. Carefully complete the following table with your recorded data and your $a'$ values. Use the above cell if you need to do any additional computations. Add rows as needed."
   ]
  },
  {
   "cell_type": "markdown",
   "id": "68611b79",
   "metadata": {},
   "source": [
    "|T|$[A]_0$|$[D]_0$|$1/[D]_0$|$[A]_0/a'$|\n",
    "|-|-|-|-|-|\n",
    "| | | | | |"
   ]
  },
  {
   "cell_type": "markdown",
   "id": "4c86a6da",
   "metadata": {},
   "source": [
    "3. Make a plot of $[A]_0/a'$ vs. $1/[D]_0$ for each of your temperatures. Also, perform a linear fit on each dataset and plot the trendlines."
   ]
  },
  {
   "cell_type": "code",
   "execution_count": null,
   "id": "6f0a069e",
   "metadata": {},
   "outputs": [],
   "source": []
  },
  {
   "cell_type": "markdown",
   "id": "5c8325f7",
   "metadata": {},
   "source": [
    "4. Use your fit from question 3 to calculate $\\epsilon '$ and $K$ for each of your temperatures. Use the cell below for calculations, and put your data in the table that follows."
   ]
  },
  {
   "cell_type": "code",
   "execution_count": null,
   "id": "f7aa5d88",
   "metadata": {},
   "outputs": [],
   "source": []
  },
  {
   "cell_type": "markdown",
   "id": "acef95dc",
   "metadata": {},
   "source": [
    "|T (K)|$\\epsilon '$|$K$|\n",
    "|-|-|-|\n",
    "| | | |"
   ]
  },
  {
   "cell_type": "markdown",
   "id": "4bc3ae87",
   "metadata": {},
   "source": [
    "5. Using your data from question 4, make a plot of your data using equation 14 from the lab handout. Be sure to make lists of your x and y variables, and perform the appropriate manipulations. "
   ]
  },
  {
   "cell_type": "code",
   "execution_count": null,
   "id": "2f37ad77",
   "metadata": {},
   "outputs": [],
   "source": []
  },
  {
   "cell_type": "markdown",
   "id": "f3554bdd",
   "metadata": {},
   "source": [
    "6. Use your plot from 5 and a linear fit to determine $\\Delta H^\\circ$ and $\\Delta S^\\circ$."
   ]
  },
  {
   "cell_type": "code",
   "execution_count": null,
   "id": "13bf8391",
   "metadata": {},
   "outputs": [],
   "source": []
  },
  {
   "cell_type": "markdown",
   "id": "4d2b5908",
   "metadata": {},
   "source": [
    "7. Calculate $\\Delta G^\\circ$ at each temperature. Use your plot/fit to determine $\\Delta G^\\circ$, $\\Delta H^\\circ$, and $\\Delta S^\\circ$ at 25 ${}^\\circ$C."
   ]
  },
  {
   "cell_type": "code",
   "execution_count": null,
   "id": "0eb6d211",
   "metadata": {},
   "outputs": [],
   "source": []
  },
  {
   "cell_type": "markdown",
   "id": "5e782a0a",
   "metadata": {},
   "source": [
    "## Part 2: Durene data"
   ]
  },
  {
   "cell_type": "markdown",
   "id": "533a1bea",
   "metadata": {},
   "source": [
    "1. Calculate $a'$ for each of your spectra by subtracting the absorbance of solution 1 at the selected wavelength from each absorbance value. Store them in a list."
   ]
  },
  {
   "cell_type": "code",
   "execution_count": null,
   "id": "2b11ff9f",
   "metadata": {},
   "outputs": [],
   "source": []
  },
  {
   "cell_type": "markdown",
   "id": "e2e43a67",
   "metadata": {},
   "source": [
    "2. Carefully complete the following table with your recorded data and your $a'$ values. Use the above cell if you need to do any additional computations. Add rows as needed."
   ]
  },
  {
   "cell_type": "markdown",
   "id": "54be3934",
   "metadata": {},
   "source": [
    "|T|$[A]_0$|$[D]_0$|$1/[D]_0$|$[A]_0/a'$|\n",
    "|-|-|-|-|-|\n",
    "| | | | | |"
   ]
  },
  {
   "cell_type": "markdown",
   "id": "44431dc9",
   "metadata": {},
   "source": [
    "3. Make a plot of $[A]_0/a'$ vs. $1/[D]_0$ for each of your temperatures. Also, perform a linear fit on each dataset and plot the trendlines."
   ]
  },
  {
   "cell_type": "code",
   "execution_count": null,
   "id": "a094154e",
   "metadata": {},
   "outputs": [],
   "source": []
  },
  {
   "cell_type": "markdown",
   "id": "50453797",
   "metadata": {},
   "source": [
    "4. Use your fit from question 3 to calculate $\\epsilon '$ and $K$ for each of your temperatures. Use the cell below for calculations, and put your data in the table that follows."
   ]
  },
  {
   "cell_type": "code",
   "execution_count": null,
   "id": "af5fe236",
   "metadata": {},
   "outputs": [],
   "source": []
  },
  {
   "cell_type": "markdown",
   "id": "af6fa704",
   "metadata": {},
   "source": [
    "|T (K)|$\\epsilon '$|$K$|\n",
    "|-|-|-|\n",
    "| | | |"
   ]
  },
  {
   "cell_type": "markdown",
   "id": "1313062f",
   "metadata": {},
   "source": [
    "5. Using your data from question 4, make a plot of your data using equation 14 from the lab handout. Be sure to make list of your x and y variables, and perform the appropriate manipulations. "
   ]
  },
  {
   "cell_type": "code",
   "execution_count": null,
   "id": "d0bfd55a",
   "metadata": {},
   "outputs": [],
   "source": []
  },
  {
   "cell_type": "markdown",
   "id": "364e9571",
   "metadata": {},
   "source": [
    "6. Use your plot from 5 and a linear fit to determine $\\Delta H^\\circ$ and $\\Delta S^\\circ$."
   ]
  },
  {
   "cell_type": "code",
   "execution_count": null,
   "id": "76e00022",
   "metadata": {},
   "outputs": [],
   "source": []
  },
  {
   "cell_type": "markdown",
   "id": "57be9062",
   "metadata": {},
   "source": [
    "7. Calculate $\\Delta G^\\circ$ at each temperature. Use your plot/fit to determine $\\Delta G^\\circ$, $\\Delta H^\\circ$, and $\\Delta S^\\circ$ at 25 ${}^\\circ$C."
   ]
  },
  {
   "cell_type": "code",
   "execution_count": null,
   "id": "977aaea9",
   "metadata": {},
   "outputs": [],
   "source": []
  },
  {
   "cell_type": "markdown",
   "id": "1e11ae4b",
   "metadata": {},
   "source": [
    "## Part 3: Questions"
   ]
  },
  {
   "cell_type": "markdown",
   "id": "987f19fe",
   "metadata": {},
   "source": [
    "1. Use the links below to compare your values of $\\epsilon_{DA}$ and $K$ with literature values. How well do your experimental results compare? Compare any thermodynamic data you find as well, be very careful with units.\n",
    "\n",
    "https://pubs.acs.org/doi/pdf/10.1021/ja01110a073\n",
    "\n",
    "https://pubs.acs.org/doi/pdf/10.1021/ja01138a009\n",
    "\n",
    "https://pubs.acs.org/doi/pdf/10.1021/ja01613a036\n"
   ]
  },
  {
   "cell_type": "markdown",
   "id": "11e35919",
   "metadata": {},
   "source": []
  },
  {
   "cell_type": "markdown",
   "id": "8c006e54",
   "metadata": {},
   "source": [
    "2. Compare the spectra for solutions 0, 1, and 5, and use them to justify your choice of the wavelength for measuring absorbance."
   ]
  },
  {
   "cell_type": "markdown",
   "id": "dc10a3bf",
   "metadata": {},
   "source": []
  },
  {
   "cell_type": "markdown",
   "id": "15ccfaaa",
   "metadata": {},
   "source": [
    "3. Based on your value of the equilibrium constant at 25 ${}^\\circ$C, what is the percent of each of the acceptor molecules which undergo complexation in solution 5? Assume that the concentration of the donor at equilibrium is the same as its initial concentration."
   ]
  },
  {
   "cell_type": "code",
   "execution_count": null,
   "id": "b1a6973a",
   "metadata": {},
   "outputs": [],
   "source": []
  },
  {
   "cell_type": "markdown",
   "id": "16e5e554",
   "metadata": {},
   "source": [
    "4. Last semester, we measured the heat of an isomerization using calorimetry. Is it possible to measure the heat of this complexation reaction with this method? Explain your answer considering results of the previous question."
   ]
  },
  {
   "cell_type": "markdown",
   "id": "34dbf894",
   "metadata": {},
   "source": []
  },
  {
   "cell_type": "markdown",
   "id": "05bbdaf6",
   "metadata": {},
   "source": [
    "5. Comment on the sign and magnitude of the $\\Delta H^\\circ$ for this complexation reaction. Is this reaction endothermic or exothermic? How does the magnitude of $\\Delta H^\\circ$ compare with that involving the formation of a typical covalent bond ($>150$kJ/mol)? How does it compare with the formation of a typical hydrogen bond (8-50 kJ/mol)?"
   ]
  },
  {
   "cell_type": "markdown",
   "id": "c8d0ce51",
   "metadata": {},
   "source": []
  },
  {
   "cell_type": "markdown",
   "id": "356ecb2e",
   "metadata": {},
   "source": [
    "6. Discuss the sign of the entropy change for this reaction in terms of increasing/decreasing disorder."
   ]
  },
  {
   "cell_type": "markdown",
   "id": "36f0316b",
   "metadata": {},
   "source": []
  },
  {
   "cell_type": "markdown",
   "id": "bd82befd",
   "metadata": {},
   "source": [
    "7. What is the sign of $\\Delta G^\\circ$? Are enthalpy and entropy factors complementary or opposing in their effect on stabilizing the complex? Which factor is dominating?"
   ]
  },
  {
   "cell_type": "markdown",
   "id": "e6afbf4d",
   "metadata": {},
   "source": []
  },
  {
   "cell_type": "markdown",
   "id": "287b9c82-a8d5-4e6b-b1aa-a5042a1710bc",
   "metadata": {},
   "source": [
    "8. Which of the two donors was the better donor? By how much did the complexation energy change between the two donors?"
   ]
  },
  {
   "cell_type": "markdown",
   "id": "3e5ed7d7-d733-40b4-842c-dc11db2cf40a",
   "metadata": {},
   "source": []
  },
  {
   "cell_type": "markdown",
   "id": "1bfb0e9c-1808-4cf1-a9d5-9092f9f21674",
   "metadata": {},
   "source": [
    "9. What structural differences between toluene and durene led the differing copmlexation behavior, if there was such a difference?"
   ]
  },
  {
   "cell_type": "markdown",
   "id": "aff0a500-ff25-4e94-9ada-aa878447fead",
   "metadata": {},
   "source": []
  },
  {
   "cell_type": "markdown",
   "id": "075e04d8-d1eb-4afa-b72e-fbf8655105ca",
   "metadata": {},
   "source": [
    "## Part 4: Computational Assignment\n",
    "\n"
   ]
  },
  {
   "cell_type": "markdown",
   "id": "936d4ed6-3d31-4260-8e62-5aef01368f8d",
   "metadata": {},
   "source": [
    "We can use computational tools to improve our understanding of this charge-transfer complexation by addressing two questions:\n",
    "\n",
    "    1. Are computational predictions consistent with our experimental data?\n",
    "    2. What other properties of the system can we describe with computational tools, that may be relevant to explain the extent of complexation?\n",
    "### 1. Calculation of Interaction Energies\n",
    "In our computations, we'll want to be able to calculate the interaction energy between $\\rm{I_2}$ and the aromatic donor. Refer to your first notebook for guidance on how to get the structures. Rather than the method/basis from Notebook 1, use:\n",
    "\n",
    "'''PBE0/def2-sVP'''\n",
    "\n",
    "as the method/basis combination. Try to calculate interaction energies with this method (so, using 3 calculations) and with SAPT0.\n",
    "Use as many cells as you need."
   ]
  },
  {
   "cell_type": "code",
   "execution_count": null,
   "id": "73b66122-b1bb-4695-af9f-4c25223ae650",
   "metadata": {},
   "outputs": [],
   "source": []
  },
  {
   "cell_type": "code",
   "execution_count": null,
   "id": "872c2ed9-a748-44c0-b29f-11b3750fe097",
   "metadata": {},
   "outputs": [],
   "source": []
  },
  {
   "cell_type": "code",
   "execution_count": null,
   "id": "1d9595ba-be69-4253-bfe1-6b80b3ce3891",
   "metadata": {},
   "outputs": [],
   "source": []
  },
  {
   "cell_type": "markdown",
   "id": "15fc9b93-f517-4891-92c8-1a21b2d64f29",
   "metadata": {},
   "source": [
    "### 2. Calculation of Properties\n",
    "\n",
    "One property we have already used to analyze interaction energies is the electrostatic potential (ESP). This tells us where regions of positive/negative charge are present in a molecule. Plot these potentials for both donor molecules."
   ]
  },
  {
   "cell_type": "code",
   "execution_count": null,
   "id": "d9a2c6c7-5f62-4b9b-aafe-bf73c9e3ae23",
   "metadata": {},
   "outputs": [],
   "source": []
  },
  {
   "cell_type": "code",
   "execution_count": null,
   "id": "57efb681-8c98-4e7b-ae4a-6cf92a8d3ba3",
   "metadata": {},
   "outputs": [],
   "source": []
  },
  {
   "cell_type": "markdown",
   "id": "dc3c424b-9a58-410a-baeb-1813aabd07a7",
   "metadata": {},
   "source": [
    "### 3. More Questions"
   ]
  },
  {
   "cell_type": "markdown",
   "id": "b9bc7503-6fc3-4250-9881-e26f25b7d930",
   "metadata": {},
   "source": [
    "1. Do the interaction energies you computed correlate with your experimental data? Are any qualitative differences large?"
   ]
  },
  {
   "cell_type": "markdown",
   "id": "dd9476d8-ff86-4861-8f08-b4dc50efcd33",
   "metadata": {},
   "source": []
  },
  {
   "cell_type": "markdown",
   "id": "b8b88a3d-2f49-4c30-8632-1ee516fd2a94",
   "metadata": {},
   "source": [
    "2. Is there a lot of variation in interaction energy between the two methods you chose?"
   ]
  },
  {
   "cell_type": "markdown",
   "id": "b978502e-8886-4157-bfca-86a37701e5fc",
   "metadata": {},
   "source": []
  },
  {
   "cell_type": "markdown",
   "id": "3c1b731a-361f-4034-ae5b-7cd952bf351d",
   "metadata": {},
   "source": [
    "3. How do the ESPs compare between each donor molecule? Does their appearance help explain any differences how they participate in charge-transfer complexation?"
   ]
  },
  {
   "cell_type": "markdown",
   "id": "5cbdd029-0464-4e75-a36d-6e0534ef5259",
   "metadata": {},
   "source": []
  }
 ],
 "metadata": {
  "kernelspec": {
   "display_name": "Python 3 (ipykernel)",
   "language": "python",
   "name": "python3"
  },
  "language_info": {
   "codemirror_mode": {
    "name": "ipython",
    "version": 3
   },
   "file_extension": ".py",
   "mimetype": "text/x-python",
   "name": "python",
   "nbconvert_exporter": "python",
   "pygments_lexer": "ipython3",
   "version": "3.9.18"
  }
 },
 "nbformat": 4,
 "nbformat_minor": 5
}
