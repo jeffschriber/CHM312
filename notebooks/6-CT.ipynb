{
 "cells": [
  {
   "cell_type": "markdown",
   "id": "90a71598",
   "metadata": {},
   "source": [
    "# Activity 6: Charge-Transfer Equilibria in Solution\n",
    "\n",
    "Adapted from Baum, Marzzacco, and Kendrow, J. Chem. Ed., 2009, 86, 1330-1334"
   ]
  },
  {
   "cell_type": "markdown",
   "id": "4e7fd1cc",
   "metadata": {},
   "source": [
    "## Part 1: toluene data"
   ]
  },
  {
   "cell_type": "markdown",
   "id": "afc0013a",
   "metadata": {},
   "source": [
    "1. Calculate $a'$ for each of your spectra by subtracting the absorbance of solution 1 at the selected wavelength from each absorbance value. Store them in a list."
   ]
  },
  {
   "cell_type": "code",
   "execution_count": null,
   "id": "98a6f5ee",
   "metadata": {},
   "outputs": [],
   "source": []
  },
  {
   "cell_type": "markdown",
   "id": "7c15e9db",
   "metadata": {},
   "source": [
    "2. Carefully complete the following table with your recorded data and your $a'$ values. Use the above cell if you need to do any additional computations. Add rows as needed."
   ]
  },
  {
   "cell_type": "markdown",
   "id": "68611b79",
   "metadata": {},
   "source": [
    "|T|$[A]_0$|$[D]_0$|$1/[D]_0$|$[A]_0/a'$|\n",
    "|-|-|-|-|-|\n",
    "| | | | | |"
   ]
  },
  {
   "cell_type": "markdown",
   "id": "4c86a6da",
   "metadata": {},
   "source": [
    "3. Make a plot of $[A]_0/a'$ vs. $1/[D]_0$ for each of your temperatures. Also, perform a linear fit on each dataset and plot the trendlines."
   ]
  },
  {
   "cell_type": "code",
   "execution_count": null,
   "id": "6f0a069e",
   "metadata": {},
   "outputs": [],
   "source": []
  },
  {
   "cell_type": "markdown",
   "id": "5c8325f7",
   "metadata": {},
   "source": [
    "4. Use your fit from question 3 to calculate $\\epsilon '$ and $K$ for each of your temperatures. Use the cell below for calculations, and put your data in the table that follows."
   ]
  },
  {
   "cell_type": "code",
   "execution_count": null,
   "id": "f7aa5d88",
   "metadata": {},
   "outputs": [],
   "source": []
  },
  {
   "cell_type": "markdown",
   "id": "acef95dc",
   "metadata": {},
   "source": [
    "|T (K)|$\\epsilon '$|$K$|\n",
    "|-|-|-|\n",
    "| | | |"
   ]
  },
  {
   "cell_type": "markdown",
   "id": "4bc3ae87",
   "metadata": {},
   "source": [
    "5. Using your data from question 4, make a plot of your data using equation 14 from the lab handout. Be sure to make list of your x and y variables, and perform the appropriate manipulations. "
   ]
  },
  {
   "cell_type": "code",
   "execution_count": null,
   "id": "2f37ad77",
   "metadata": {},
   "outputs": [],
   "source": []
  },
  {
   "cell_type": "markdown",
   "id": "f3554bdd",
   "metadata": {},
   "source": [
    "6. Use your plot from 5 and a linear fit to determine $\\Delta H^\\circ$ and $\\Delta S^\\circ$ at each temperature."
   ]
  },
  {
   "cell_type": "code",
   "execution_count": null,
   "id": "13bf8391",
   "metadata": {},
   "outputs": [],
   "source": []
  },
  {
   "cell_type": "markdown",
   "id": "4d2b5908",
   "metadata": {},
   "source": [
    "7. Calculate $\\Delta G^\\circ$ at each temperature. Use your plot/fit to determine $\\Delta G^\\circ$, $\\Delta H^\\circ$, and $\\Delta S^\\circ$ at 25 ${}^\\circ$C."
   ]
  },
  {
   "cell_type": "code",
   "execution_count": null,
   "id": "0eb6d211",
   "metadata": {},
   "outputs": [],
   "source": []
  },
  {
   "cell_type": "markdown",
   "id": "5e782a0a",
   "metadata": {},
   "source": [
    "## Part 2: $t$-butanol data"
   ]
  },
  {
   "cell_type": "markdown",
   "id": "533a1bea",
   "metadata": {},
   "source": [
    "1. Calculate $a'$ for each of your spectra by subtracting the absorbance of solution 1 at the selected wavelength from each absorbance value. Store them in a list."
   ]
  },
  {
   "cell_type": "code",
   "execution_count": null,
   "id": "2b11ff9f",
   "metadata": {},
   "outputs": [],
   "source": []
  },
  {
   "cell_type": "markdown",
   "id": "e2e43a67",
   "metadata": {},
   "source": [
    "2. Carefully complete the following table with your recorded data and your $a'$ values. Use the above cell if you need to do any additional computations. Add rows as needed."
   ]
  },
  {
   "cell_type": "markdown",
   "id": "54be3934",
   "metadata": {},
   "source": [
    "|T|$[A]_0$|$[D]_0$|$1/[D]_0$|$[A]_0/a'$|\n",
    "|-|-|-|-|-|\n",
    "| | | | | |"
   ]
  },
  {
   "cell_type": "markdown",
   "id": "44431dc9",
   "metadata": {},
   "source": [
    "3. Make a plot of $[A]_0/a'$ vs. $1/[D]_0$ for each of your temperatures. Also, perform a linear fit on each dataset and plot the trendlines."
   ]
  },
  {
   "cell_type": "code",
   "execution_count": null,
   "id": "a094154e",
   "metadata": {},
   "outputs": [],
   "source": []
  },
  {
   "cell_type": "markdown",
   "id": "50453797",
   "metadata": {},
   "source": [
    "4. Use your fit from question 3 to calculate $\\epsilon '$ and $K$ for each of your temperatures. Use the cell below for calculations, and put your data in the table that follows."
   ]
  },
  {
   "cell_type": "code",
   "execution_count": null,
   "id": "af5fe236",
   "metadata": {},
   "outputs": [],
   "source": []
  },
  {
   "cell_type": "markdown",
   "id": "af6fa704",
   "metadata": {},
   "source": [
    "|T (K)|$\\epsilon '$|$K$|\n",
    "|-|-|-|\n",
    "| | | |"
   ]
  },
  {
   "cell_type": "markdown",
   "id": "1313062f",
   "metadata": {},
   "source": [
    "5. Using your data from question 4, make a plot of your data using equation 14 from the lab handout. Be sure to make list of your x and y variables, and perform the appropriate manipulations. "
   ]
  },
  {
   "cell_type": "code",
   "execution_count": null,
   "id": "d0bfd55a",
   "metadata": {},
   "outputs": [],
   "source": []
  },
  {
   "cell_type": "markdown",
   "id": "364e9571",
   "metadata": {},
   "source": [
    "6. Use your plot from 5 and a linear fit to determine $\\Delta H^\\circ$ and $\\Delta S^\\circ$ at each temperature."
   ]
  },
  {
   "cell_type": "code",
   "execution_count": null,
   "id": "76e00022",
   "metadata": {},
   "outputs": [],
   "source": []
  },
  {
   "cell_type": "markdown",
   "id": "57be9062",
   "metadata": {},
   "source": [
    "7. Calculate $\\Delta G^\\circ$ at each temperature. Use your plot/fit to determine $\\Delta G^\\circ$, $\\Delta H^\\circ$, and $\\Delta S^\\circ$ at 25 ${}^\\circ$C."
   ]
  },
  {
   "cell_type": "code",
   "execution_count": null,
   "id": "977aaea9",
   "metadata": {},
   "outputs": [],
   "source": []
  },
  {
   "cell_type": "markdown",
   "id": "1e11ae4b",
   "metadata": {},
   "source": [
    "## Part 3: Questions"
   ]
  },
  {
   "cell_type": "markdown",
   "id": "987f19fe",
   "metadata": {},
   "source": [
    "1. Use the links below to compare your values of $\\epsilon_{DA}$ and $K$ with literature values. How well do your experimental results compare? Compare any thermodynamic data you find as well, be very careful with units.\n",
    "\n",
    "https://pubs.acs.org/doi/pdf/10.1021/ja01110a073\n",
    "\n",
    "https://pubs.acs.org/doi/pdf/10.1021/ja01138a009\n",
    "\n",
    "https://pubs.acs.org/doi/pdf/10.1021/ja01613a036\n"
   ]
  },
  {
   "cell_type": "markdown",
   "id": "11e35919",
   "metadata": {},
   "source": []
  },
  {
   "cell_type": "markdown",
   "id": "8c006e54",
   "metadata": {},
   "source": [
    "2. Compare the spectra for solutinos 0, 1, and 5, and use them to justify your choice of the wavelength for measuring absorbance."
   ]
  },
  {
   "cell_type": "markdown",
   "id": "dc10a3bf",
   "metadata": {},
   "source": []
  },
  {
   "cell_type": "markdown",
   "id": "15ccfaaa",
   "metadata": {},
   "source": [
    "3. Based on your value of the equilibrium constant at 25 ${}^\\circ$C, what is the percent of the acceptor molecules which undergo complexation in solution 5? Assume that the concentration of the donor at equilibrium is the same as its initial concentration."
   ]
  },
  {
   "cell_type": "code",
   "execution_count": null,
   "id": "b1a6973a",
   "metadata": {},
   "outputs": [],
   "source": []
  },
  {
   "cell_type": "markdown",
   "id": "16e5e554",
   "metadata": {},
   "source": [
    "4. Last semester, we measures the heat of an isomerization using calorimetry. Is it possible to measure the heat of this complexation reaction with this method? Explain your answer considering results of the previous question."
   ]
  },
  {
   "cell_type": "markdown",
   "id": "34dbf894",
   "metadata": {},
   "source": []
  },
  {
   "cell_type": "markdown",
   "id": "05bbdaf6",
   "metadata": {},
   "source": [
    "5. Comment on the sign and magnitude of the $\\Delta H^\\circ$ for this complexation reaction. Is this reaction endothermic or exothermic? How does the magnitude of $\\Delta H^\\circ$ compare with that involving the formation of a typical covalent bond ($>150$kJ/mol)? How does it compare with the formation of a typical hydrogen bond (8-50 kJ/mol)?"
   ]
  },
  {
   "cell_type": "markdown",
   "id": "c8d0ce51",
   "metadata": {},
   "source": []
  },
  {
   "cell_type": "markdown",
   "id": "356ecb2e",
   "metadata": {},
   "source": [
    "6. Discuss the sign of the entropy change for this reaction in terms of increasing/decreasing disorder."
   ]
  },
  {
   "cell_type": "markdown",
   "id": "36f0316b",
   "metadata": {},
   "source": []
  },
  {
   "cell_type": "markdown",
   "id": "bd82befd",
   "metadata": {},
   "source": [
    "7. What is the sign of $\\Delta G^\\circ$? Are enthalpy and entropy factors complementary or opposing in their effect on stabilizing the complex? Which factor is dominating?"
   ]
  },
  {
   "cell_type": "markdown",
   "id": "e6afbf4d",
   "metadata": {},
   "source": []
  }
 ],
 "metadata": {
  "kernelspec": {
   "display_name": "Python 3 (ipykernel)",
   "language": "python",
   "name": "python3"
  },
  "language_info": {
   "codemirror_mode": {
    "name": "ipython",
    "version": 3
   },
   "file_extension": ".py",
   "mimetype": "text/x-python",
   "name": "python",
   "nbconvert_exporter": "python",
   "pygments_lexer": "ipython3",
   "version": "3.8.10"
  }
 },
 "nbformat": 4,
 "nbformat_minor": 5
}
