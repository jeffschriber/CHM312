{
 "cells": [
  {
   "cell_type": "markdown",
   "id": "0537e727",
   "metadata": {},
   "source": [
    "# Activity 5: Freezing Point Depression of Electrolyte Solutions\n",
    "\n",
    "Prior to starting this notebook, you should have the following completed:\n",
    " - At least four $\\Delta T$ values covering a range of at least 0.2-0.3 ${}^\\circ C$\n",
    " - Calculated molalites for each of your experimental points."
   ]
  },
  {
   "cell_type": "markdown",
   "id": "c050faa7",
   "metadata": {},
   "source": [
    "## Part 1: Analyzing your Data\n",
    "\n",
    "In the cell below, type in your experimental freezing point depressions and molality values. Make sure they are in the same order. Remember, the point (0.0,0.0) is part of your dataset."
   ]
  },
  {
   "cell_type": "code",
   "execution_count": null,
   "id": "0947c7ed",
   "metadata": {},
   "outputs": [],
   "source": [
    "m = \n",
    "dT = \n",
    "\n",
    "m = np.asarray(m)\n",
    "dT = np.asarray(dT)"
   ]
  },
  {
   "cell_type": "markdown",
   "id": "90b202d4",
   "metadata": {},
   "source": [
    "Fit your data to a line and compute the $R^2$ with help from a previous notebook. Print both your slope and the $R^2$. "
   ]
  },
  {
   "cell_type": "code",
   "execution_count": null,
   "id": "92a34ad1",
   "metadata": {},
   "outputs": [],
   "source": []
  },
  {
   "cell_type": "markdown",
   "id": "3cd6aef2",
   "metadata": {},
   "source": [
    "Using your $m$ values, calculate the theoretical $\\Delta T$ assuming our mixture is an ideal electrolytic solution. Store this in a list, with the order of entries corresponding to the order of your $m$ values."
   ]
  },
  {
   "cell_type": "code",
   "execution_count": null,
   "id": "1af58fb3",
   "metadata": {},
   "outputs": [],
   "source": []
  },
  {
   "cell_type": "markdown",
   "id": "ab2870a5",
   "metadata": {},
   "source": [
    "Fit this data to a line, and report the slope and $R^2$. "
   ]
  },
  {
   "cell_type": "code",
   "execution_count": null,
   "id": "8635b585",
   "metadata": {},
   "outputs": [],
   "source": []
  },
  {
   "cell_type": "markdown",
   "id": "6f13d84f",
   "metadata": {},
   "source": [
    "Plot your experimental $\\Delta T$ values vs. the molalities. On the same set of axes, plot the theoretical $\\Delta T$ values vs. the molalities, making sure to have a legend to distinguish the data sets. Also include trendlines for each dataset."
   ]
  },
  {
   "cell_type": "code",
   "execution_count": null,
   "id": "13c4b283",
   "metadata": {},
   "outputs": [],
   "source": []
  },
  {
   "cell_type": "markdown",
   "id": "73966f4f",
   "metadata": {},
   "source": [
    "Calculate the osmotic coefficents, $\\mathbf{g}$ for your experimental data, at each of your points. "
   ]
  },
  {
   "cell_type": "code",
   "execution_count": null,
   "id": "bdcc378a",
   "metadata": {},
   "outputs": [],
   "source": []
  },
  {
   "cell_type": "markdown",
   "id": "93ba0a1b",
   "metadata": {},
   "source": [
    "Calculate the osmotic coefficients using the Debye-Huckel Law. Then, plot both sets of coefficients on the same set of labeled axes versus $\\sqrt{m}$."
   ]
  },
  {
   "cell_type": "code",
   "execution_count": null,
   "id": "6c6d2005",
   "metadata": {},
   "outputs": [],
   "source": []
  },
  {
   "cell_type": "markdown",
   "id": "c71638b5",
   "metadata": {},
   "source": [
    "Finally, we want to calculate the activity coefficient, $\\gamma_{\\pm}$, which is a quantity we typically use to quantify non-ideal behavior. Here, the $\\pm$ symbol indicates that the activity is for the geometric mean of cationic and anionic molecules in the electrolytic solution. To calculate the activity coefficent, we use the relation,\n",
    "$$\\ln(\\gamma_{\\pm}) = \\mathbf{g}(m)-1+\\int_0^m\\frac{g(m)-1}{m}dm$$\n",
    "So, how do we solve this? We need a way to handle the integral. A straightforward approach is to fit our $\\mathbf{g}$ values to our $m^{1/2}$ values using a third order polynomial. This should give us an expression of the form,\n",
    "$$\\mathbf{g}(m) = am^{3/2}+bm+cm^{1/2}+1$$\n",
    "If we plug this into the above equation, the integral becomes easy to solve.\n",
    "\n",
    "In the cell below, fit your $\\mathbf{g}$ values to your $m^{1/2}$ using a cubic polynomial. Be sure to print the coefficients."
   ]
  },
  {
   "cell_type": "code",
   "execution_count": null,
   "id": "49ecfe53",
   "metadata": {},
   "outputs": [],
   "source": []
  },
  {
   "cell_type": "markdown",
   "id": "0c9063a9",
   "metadata": {},
   "source": [
    "Lastly, calculate the activity coefficients using your g values,  m values, and your fitting coefficients. "
   ]
  },
  {
   "cell_type": "code",
   "execution_count": null,
   "id": "02a0cd44",
   "metadata": {},
   "outputs": [],
   "source": []
  },
  {
   "cell_type": "markdown",
   "id": "82b33262",
   "metadata": {},
   "source": [
    "## 2. Reference Data\n",
    "\n",
    "In this section, you'll repeat most of part 1 on a set of reference data, ultimatelly ending up with reference activities and osmotic coefficients. Rather than scouring the web for this data, I'll provide it in a cell below."
   ]
  },
  {
   "cell_type": "code",
   "execution_count": 4,
   "id": "dc8303fb",
   "metadata": {},
   "outputs": [],
   "source": [
    "m_ref = [0.0,\n",
    "         0.000627, \n",
    "         0.001821, \n",
    "         0.003526, \n",
    "         0.005210, \n",
    "         0.013258, \n",
    "         0.027439, \n",
    "         0.044012, \n",
    "         0.051633, \n",
    "         0.067072, \n",
    "         0.070576, \n",
    "         0.104591]  \n",
    "\n",
    "dT_ref = [0.0,\n",
    "          0.00229,\n",
    "          0.00668,\n",
    "          0.01286,\n",
    "          0.01892,\n",
    "          0.04763,\n",
    "          0.09746,\n",
    "          0.15567,\n",
    "          0.18281,\n",
    "          0.23641,\n",
    "          0.24891,\n",
    "          0.36838]\n",
    "\n",
    "m_ref = np.asarray(m_ref)\n",
    "dT_ref = np.asarray(dT_ref)"
   ]
  },
  {
   "cell_type": "markdown",
   "id": "e51cc7bd",
   "metadata": {},
   "source": [
    "First, use this data to calculate $\\mathbf{g}$ at each molality using the provided experimental data."
   ]
  },
  {
   "cell_type": "code",
   "execution_count": null,
   "id": "4f4bb37c",
   "metadata": {},
   "outputs": [],
   "source": []
  },
  {
   "cell_type": "markdown",
   "id": "e2ee682a",
   "metadata": {},
   "source": [
    "Calculate $\\mathbf{g}$ using for these molalities using the Debye-Huckel formula."
   ]
  },
  {
   "cell_type": "code",
   "execution_count": null,
   "id": "cd32835d",
   "metadata": {},
   "outputs": [],
   "source": []
  },
  {
   "cell_type": "markdown",
   "id": "fe85fb80",
   "metadata": {},
   "source": [
    "On the same set of axes, plot $\\mathbf{g}$ vs $m$ using the provided experimental data, the Debye-Huckel values calculated from the provided data, and the values you calculated from Part 1. "
   ]
  },
  {
   "cell_type": "code",
   "execution_count": null,
   "id": "9c9934cd",
   "metadata": {},
   "outputs": [],
   "source": []
  },
  {
   "cell_type": "markdown",
   "id": "061c09e4",
   "metadata": {},
   "source": [
    "Using the provided values, calculate the activity coefficients for the ionic solution at each molality. You will again need to perform a cubic fit to evaluate the integral."
   ]
  },
  {
   "cell_type": "code",
   "execution_count": null,
   "id": "f499cc0f",
   "metadata": {},
   "outputs": [],
   "source": []
  },
  {
   "cell_type": "markdown",
   "id": "a88370af",
   "metadata": {},
   "source": [
    "Similar to the osmotic coefficients, we can calculate activity coefficients with Debye-Huckel and Debye-Huckel-like expressions. The Debye-Huckel theory gives,\n",
    "$$\\log\\gamma_{\\pm} = -0.488*\\sqrt{m}$$\n",
    "and a similar equation from the Debye-Huckel-Guggenheim theory gives,\n",
    "$$\\log\\gamma_{\\pm}=\\frac{-0.488\\sqrt{m}}{1+\\sqrt{m}}$$\n",
    "which is more applicable to higher solute concentrations.\n",
    "\n",
    "In the cell below, calculate activity coefficients using both equations and the provided data."
   ]
  },
  {
   "cell_type": "code",
   "execution_count": null,
   "id": "03ce820c",
   "metadata": {},
   "outputs": [],
   "source": []
  },
  {
   "cell_type": "markdown",
   "id": "eefab36a",
   "metadata": {},
   "source": [
    "Lastly, plot the activity coefficient vs the molality of your experimental data, the provided data, and of both theories you just used. Be sure to label all sets of points. "
   ]
  },
  {
   "cell_type": "code",
   "execution_count": null,
   "id": "0eedc458",
   "metadata": {},
   "outputs": [],
   "source": []
  }
 ],
 "metadata": {
  "kernelspec": {
   "display_name": "Python 3 (ipykernel)",
   "language": "python",
   "name": "python3"
  },
  "language_info": {
   "codemirror_mode": {
    "name": "ipython",
    "version": 3
   },
   "file_extension": ".py",
   "mimetype": "text/x-python",
   "name": "python",
   "nbconvert_exporter": "python",
   "pygments_lexer": "ipython3",
   "version": "3.8.10"
  }
 },
 "nbformat": 4,
 "nbformat_minor": 5
}
