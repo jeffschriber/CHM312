{
 "cells": [
  {
   "cell_type": "code",
   "execution_count": null,
   "id": "2db9e40e",
   "metadata": {},
   "outputs": [],
   "source": [
    "import numpy as np\n",
    "import os\n",
    "from numpy.polynomial import polynomial as P\n",
    "import matplotlib\n",
    "import matplotlib.pyplot as plt"
   ]
  },
  {
   "cell_type": "markdown",
   "id": "f7ad6f73",
   "metadata": {},
   "source": [
    "# Activity 7: Second-order Kinetics and the Kinetic Salt Effect"
   ]
  },
  {
   "cell_type": "markdown",
   "id": "ba459d7d",
   "metadata": {},
   "source": [
    "## Part 0: Loading the Data\n",
    "\n",
    "I'll provide a function that will take your raw data, and output two numpy arrays. The first element will be the list of times, and the second element is the list of absorbances. You will need this data in parts 2-4 of this notebook. \n",
    "\n",
    "The function is in the next cell, you do not need to edit it. In the blank cell that follows, use this function to extract your data."
   ]
  },
  {
   "cell_type": "code",
   "execution_count": null,
   "id": "11296ffd",
   "metadata": {},
   "outputs": [],
   "source": [
    "def load_data(filename):\n",
    "    \"\"\"\n",
    "    load_data\n",
    "    \n",
    "    Keywords:\n",
    "        filename (str); filename and path of .csv data\n",
    "        \n",
    "    Output:\n",
    "        data ([np.array,np.array,...,n]); Returns an n-element list. The first element is a np.array\n",
    "                                    with the times. Each element thereafter is a np.array with the\n",
    "                                    absorbances, one for each remaining column in the csv\n",
    "                                    There is no re-sorting.\n",
    "    \"\"\"\n",
    "    \n",
    "    # We'll handle any errors if the filename is wrong\n",
    "    if not os.path.isfile(filename):\n",
    "        raise Exception(\"Cannot file, check the filename and path\")\n",
    "    else:\n",
    "        print(\"    Loading data from %s\" % filename)\n",
    "        \n",
    "    data = []\n",
    "    ncol = 0\n",
    "    # Let's go through the file\n",
    "    with open(filename, 'r') as infile:\n",
    "        for n,line in enumerate(infile):\n",
    "            line = line.strip().split(',')\n",
    "            # skip the first line\n",
    "            if n == 0:\n",
    "                ncol = len(line)\n",
    "                data = [[] for _ in range(ncol)]\n",
    "                \n",
    "                # skip lines that don't have absorbance data       \n",
    "            try:\n",
    "                for col in range(ncol):          \n",
    "                    el = float(line[col].strip())\n",
    "                for col in range(ncol):\n",
    "                    data[col].append(float(line[col].strip()))\n",
    "            except:\n",
    "                continue\n",
    "    \n",
    "    for col in range(ncol):\n",
    "        data[col] = np.asarray(data[col])\n",
    "    \n",
    "    return data"
   ]
  },
  {
   "cell_type": "code",
   "execution_count": null,
   "id": "f6f63298",
   "metadata": {},
   "outputs": [],
   "source": []
  },
  {
   "cell_type": "markdown",
   "id": "ab4e05ee",
   "metadata": {},
   "source": [
    "## Part 1: Determination of the Molar Absorptivity\n",
    "\n",
    "In order to calculate the concentration of the hexacyanoferrate anion, we will need to calculate the molar absorptivity using Beer's Law. In the cell below, make a list of the concentrations (as molarities) you used for\n",
    "your standards. Make a second list for your absorbances."
   ]
  },
  {
   "cell_type": "code",
   "execution_count": null,
   "id": "ef7bd27a",
   "metadata": {},
   "outputs": [],
   "source": []
  },
  {
   "cell_type": "markdown",
   "id": "1fbec765",
   "metadata": {},
   "source": [
    "In the cell below, perform a linear fit of your data, making sure that concentration is the $x$-variable and absorbance is the $y$-variable. Use this fit to calculate the molar absorptivity, and also calculate the $R^2$ for your fit. "
   ]
  },
  {
   "cell_type": "code",
   "execution_count": null,
   "id": "052308e3",
   "metadata": {},
   "outputs": [],
   "source": []
  },
  {
   "cell_type": "markdown",
   "id": "c41a5ea3",
   "metadata": {},
   "source": [
    "Make a Beer's law plot with your data. Include the linear trendline from above."
   ]
  },
  {
   "cell_type": "code",
   "execution_count": null,
   "id": "c6286ee7",
   "metadata": {},
   "outputs": [],
   "source": []
  },
  {
   "cell_type": "markdown",
   "id": "afb80a8f",
   "metadata": {},
   "source": [
    "## Part 2: Determination of Rate Constants"
   ]
  },
  {
   "cell_type": "markdown",
   "id": "df517105",
   "metadata": {},
   "source": [
    "Just to make sure your data is correctly formatted, plot your absorbance vs time data on one set of axes below. Be sure to include a legend to clarify the data."
   ]
  },
  {
   "cell_type": "code",
   "execution_count": null,
   "id": "25cbdfc6",
   "metadata": {},
   "outputs": [],
   "source": []
  },
  {
   "cell_type": "markdown",
   "id": "14ded263",
   "metadata": {},
   "source": [
    "Our reaction is mixed second-order, meaning that it is first order in each reactant. The empirical integrated rate equation for our reaction is\n",
    "$$k_{\\rm{obs}}t = \\frac{1}{[\\rm{H_2Asc}]_0 - 2[Fe(CN)_6^{-3}]_0}\\ln\\frac{[\\rm{H_2Asc}][Fe(CN)_6^{-3}]_0}{[\\rm{H_2Asc}]_0[Fe(CN)_6^{-3}]}$$\n",
    "\n",
    "Using the relation, $[Fe(CN)_6^{-3}]_t = \\frac{A_t}{A_0}[Fe(CN)_6^{-3}]_0$, where $A$ is the absorbance, we can derive a formula that relates the time-dependent absorbances to the rate constant, using only concentration and absorbance data,\n",
    "$$\\frac{A_f}{A_t} = 1 - \\frac{A_0-A_f}{A_0}e^{-c_fk_{\\rm{obs}}t}  $$\n",
    "where $A_f$ is the final absorbance, $A_0$ is the initial absorbance, $c_f$ is the final concentration of our absorbing species, and $k_{\\rm{obs}}$ is the observed rate constant. We can rearrange this to a form useabel by our fitting functions,\n",
    "$$\\ln(1-\\frac{A_f}{A_t}) = \\ln(\\frac{A_0-A_f}{A_0}) -c_fk_{\\rm{obs}}t $$\n",
    "\n",
    "In the cells below, calculate $k_{\\rm{obs}}$ for each of your runs. You will need to make $y$-values according to the above equation, and perform a linear fit of those with respect to $t$. From the slope of the linear fit and $c_f$, you will obtain $k_{\\rm{obs}}$.\n",
    "\n",
    "In order to use the linear fit, you will need to first perform an exponential fit to determine $A_f$. See the corresponding notebook on how to do this, and include that in the cells below. \n"
   ]
  },
  {
   "cell_type": "code",
   "execution_count": null,
   "id": "31b92240",
   "metadata": {},
   "outputs": [],
   "source": [
    "# Determine Af_1 here\n"
   ]
  },
  {
   "cell_type": "code",
   "execution_count": null,
   "id": "12638346",
   "metadata": {},
   "outputs": [],
   "source": [
    "# Determine kobs_1 here\n"
   ]
  },
  {
   "cell_type": "code",
   "execution_count": null,
   "id": "7fd939f8",
   "metadata": {},
   "outputs": [],
   "source": [
    "# Determine Af_2 here\n"
   ]
  },
  {
   "cell_type": "code",
   "execution_count": null,
   "id": "edcc8cab",
   "metadata": {},
   "outputs": [],
   "source": [
    "# Determine kobs_2 here\n"
   ]
  },
  {
   "cell_type": "code",
   "execution_count": null,
   "id": "66d26409",
   "metadata": {},
   "outputs": [],
   "source": [
    "# Determine Af_3 here\n"
   ]
  },
  {
   "cell_type": "code",
   "execution_count": null,
   "id": "cdee51ac",
   "metadata": {},
   "outputs": [],
   "source": [
    "# Determine kobs_3 here\n"
   ]
  },
  {
   "cell_type": "code",
   "execution_count": null,
   "id": "127fabb1",
   "metadata": {},
   "outputs": [],
   "source": [
    "# Determine Af_4 here\n"
   ]
  },
  {
   "cell_type": "code",
   "execution_count": null,
   "id": "97a050c6",
   "metadata": {},
   "outputs": [],
   "source": [
    "# Determine kobs_4 here\n"
   ]
  },
  {
   "cell_type": "markdown",
   "id": "d1091870",
   "metadata": {},
   "source": [
    "Now, you need to use your values of $k_{\\rm{obs}}$ to calculate $k_2$, which is the rate constant for our rate limiting step. In principle, these numbers should be similar, but we can calulate it somewhat simply using,\n",
    "$$ k_2 = k_{\\rm{obs}}\\frac{1}{[H^+]}K_a$$\n",
    "where $K_a = 6.76\\times10^{-5}$ (the acid constant for ascorbic acid) and $[H^+]$ is the concentration of nitric acid. calculate $k_2$ in the cell below, and make a list of your $k_2$ values in order of increasing salt content. Print this list at the end of the cell. "
   ]
  },
  {
   "cell_type": "code",
   "execution_count": null,
   "id": "239b4ea8",
   "metadata": {},
   "outputs": [],
   "source": []
  },
  {
   "cell_type": "markdown",
   "id": "c884eedd",
   "metadata": {},
   "source": [
    "## Part 3: The Kinetic Salt Effect\n",
    "\n",
    "Now that you have the rate constants, we can investigate the effect of ion concentration has on the rate. The first step in doing this is to calculate the ionic strengths of each solution. This is acheived with the equation,\n",
    "$$I = \\frac{1}{2}\\sum_i z_i^2m_i$$\n",
    "where $z_i$ is the charge of ion $i$, and $c_i$ is its concentration. In the equation, the sum runs over every ion. For a solution of a simple, univalent electrolye, the ionic strength is the same as the molar concentration.\n",
    "\n",
    "Compute the ionic strengths for each solution in the cell below."
   ]
  },
  {
   "cell_type": "code",
   "execution_count": null,
   "id": "c93249b7",
   "metadata": {},
   "outputs": [],
   "source": []
  },
  {
   "cell_type": "markdown",
   "id": "2c1622d6",
   "metadata": {},
   "source": [
    "Debye-Huckel theory gives us an equation to relate the ionic strength to the change in the rate constant for a reaction. This equation is,\n",
    "$$\\log k_2 = \\log k_0 + 1.02Z_1Z_2\\frac{\\sqrt{I}}{\\sqrt{I}+1}$$\n",
    "where $k_2$ is our rate constant that we measure, $k_0$ is the rate constant with no extraneous ion present, $Z_1$ and $Z_2$ are charges of the reactants, and $I$ is the ionic strength.\n",
    "\n",
    "In the cell below, perform a linear fit with $\\log k_2$ as the $y$-variable, and $\\frac{\\sqrt{I}}{\\sqrt{I}+1}$ as the $x$-variable. Repeat this fit for each set of $k_2$ (i.e., for each temperature). Use the returned slope and intercept to calculate $k_0$, and the product, $Z_1Z_2$. Print and label these quantities."
   ]
  },
  {
   "cell_type": "code",
   "execution_count": null,
   "id": "6799ec5e",
   "metadata": {},
   "outputs": [],
   "source": []
  },
  {
   "cell_type": "markdown",
   "id": "2a1bd9cf",
   "metadata": {},
   "source": [
    "In the cell below, make a plot showing ionic strength on the $x$-axis and $k_2$ on the $y$-axis. Be sure to label the axes and points."
   ]
  },
  {
   "cell_type": "code",
   "execution_count": null,
   "id": "cd11c8d0",
   "metadata": {},
   "outputs": [],
   "source": []
  },
  {
   "cell_type": "markdown",
   "id": "29d9b4ad",
   "metadata": {},
   "source": [
    "Lastly, you will need the $k_0$ values in the next section. Use the outputs from your linear fits to make a list of $k_0$ values in order of increasing temperature."
   ]
  },
  {
   "cell_type": "code",
   "execution_count": null,
   "id": "4bd7dbe0",
   "metadata": {},
   "outputs": [],
   "source": []
  },
  {
   "cell_type": "markdown",
   "id": "ab1bdf09",
   "metadata": {},
   "source": [
    "## Part 4: Questions"
   ]
  },
  {
   "cell_type": "markdown",
   "id": "67fb0cf9",
   "metadata": {},
   "source": [
    "1. Are your $Z_1Z_2$ values close you what you'd expect, given the rate-determining step we identified? Discuss any discrepancies."
   ]
  },
  {
   "cell_type": "markdown",
   "id": "58195fbe",
   "metadata": {},
   "source": []
  },
  {
   "cell_type": "markdown",
   "id": "1dc22078",
   "metadata": {},
   "source": [
    "2. Discuss the effect that ionic strength has on the rate of oxidation of ascorbic acid by hexacyanoferrate(III). "
   ]
  },
  {
   "cell_type": "markdown",
   "id": "4ee4c250",
   "metadata": {},
   "source": []
  },
  {
   "cell_type": "markdown",
   "id": "2a16f244",
   "metadata": {},
   "source": [
    " 3. How would this observed trend be different if the ions had opposite charges? What if one of the species was neutral?"
   ]
  },
  {
   "cell_type": "markdown",
   "id": "16097537",
   "metadata": {},
   "source": []
  },
  {
   "cell_type": "markdown",
   "id": "e8fa88b9",
   "metadata": {},
   "source": [
    " 4. How would you expect $\\Delta H^\\ddagger$ and $\\Delta S^\\ddagger$ to change with ionic strength for this reaction?"
   ]
  },
  {
   "cell_type": "markdown",
   "id": "d4525efa",
   "metadata": {},
   "source": []
  },
  {
   "cell_type": "markdown",
   "id": "f634202f",
   "metadata": {},
   "source": [
    " 5. Related to question 4, what exactly are the external ions doing to affect the reaction rate? Discuss using ideas of Transition State Theory and your experimental results. "
   ]
  },
  {
   "cell_type": "markdown",
   "id": "262ee031",
   "metadata": {},
   "source": []
  }
 ],
 "metadata": {
  "kernelspec": {
   "display_name": "Python 3 (ipykernel)",
   "language": "python",
   "name": "python3"
  },
  "language_info": {
   "codemirror_mode": {
    "name": "ipython",
    "version": 3
   },
   "file_extension": ".py",
   "mimetype": "text/x-python",
   "name": "python",
   "nbconvert_exporter": "python",
   "pygments_lexer": "ipython3",
   "version": "3.10.11"
  }
 },
 "nbformat": 4,
 "nbformat_minor": 5
}
