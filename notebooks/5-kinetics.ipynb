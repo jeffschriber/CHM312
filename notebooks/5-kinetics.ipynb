{
 "cells": [
  {
   "cell_type": "code",
   "execution_count": 1,
   "id": "a681601d",
   "metadata": {},
   "outputs": [],
   "source": [
    "import numpy as np\n",
    "import matplotlib.pyplot as plt\n",
    "import scipy\n",
    "from scipy.optimize import curve_fit\n",
    "from numpy.polynomial import polynomial as P"
   ]
  },
  {
   "cell_type": "markdown",
   "id": "3494c9fb",
   "metadata": {},
   "source": [
    "# Bromination of Acetone\n",
    "\n",
    "In this notebook, we will perform all necessary calculations to determine our reaction orders and rate constant. \n",
    "\n",
    "## 1. Concentrations of reactants\n",
    "\n",
    "In order to compute our reaction rate, $v$, we first need to record the concentrations of acetone, H$^+$, and bromine in each reaction mixture. Recall, we define the reaction rate as\n",
    "$$ v = k[\\rm{Ac}]^\\alpha[\\rm{H^+}]^\\beta[\\rm{Br_2}]^\\gamma$$\n",
    "\n",
    "We can already calculate the concentrations of acetone and H$^+$ using the molecular weight of acetone (58.08 g/mol), the density of acetone (0.791 g/mL), our stock HCl concentration (6 M), and our dilution volumes. Recall in making our reaction mixture, we did a 4X dilution for A and H solutions, and a 2X dilution for the B solutions.\n",
    "\n",
    "Calculate all concentrations of acetone and H$^+$ for each of the seven reaction mixtures (several of them will be the same). Then, in the cell below, make a list of these conentrations for each reactant, making sure the order matches the reaction mixture label."
   ]
  },
  {
   "cell_type": "code",
   "execution_count": null,
   "id": "14cc4357",
   "metadata": {},
   "outputs": [],
   "source": [
    "acetone_c = []\n",
    "h_c = []\n",
    "\n",
    "acetone_c = np.asarray(acetone_c)\n",
    "h_c = np.asarray(h_c)"
   ]
  },
  {
   "cell_type": "markdown",
   "id": "725b0b87",
   "metadata": {},
   "source": [
    "To get our B solution concentrations, we first need to get the B2 concentration from our spectroscopic data. In the cell below, calculate the concentrations of B1, B2, and B3 using your absorbance at 400 nm and the molar absorptivity of bromine at this wavelength, 160 $\\rm{M^{-1}cm^{-1}}$."
   ]
  },
  {
   "cell_type": "code",
   "execution_count": null,
   "id": "baef8018",
   "metadata": {},
   "outputs": [],
   "source": []
  },
  {
   "cell_type": "markdown",
   "id": "e0138652",
   "metadata": {},
   "source": [
    "In the cell below, make a list of bromine reaction concentrations for all seven reaction mixtures:"
   ]
  },
  {
   "cell_type": "code",
   "execution_count": null,
   "id": "7143db60",
   "metadata": {},
   "outputs": [],
   "source": [
    "br_c = []\n",
    "br_c = np.asarray(br_c)"
   ]
  },
  {
   "cell_type": "markdown",
   "id": "96f712f6",
   "metadata": {},
   "source": [
    "## 2. Analyzing the Absorbance Data\n",
    "\n",
    "Conveniently, we can define the rate, $v$ by considering the appearance of only one product, or the dissapearance of a reactant. In our case, we will be measuring the consumption of bromine,\n",
    "$$v = -\\frac{d[\\rm{Br_2}]}{dt} = k[\\rm{Ac}]^\\alpha[\\rm{H^+}]^\\beta[\\rm{Br_2}]^\\gamma$$"
   ]
  },
  {
   "cell_type": "markdown",
   "id": "b5e1d793",
   "metadata": {},
   "source": [
    "If we plot our data, and compute the slope of each line, then we can use that slope, $\\frac{dA}{dt}$, to get $-\\frac{d[\\rm{Br_2}]}{dt}$, by converting A to $[\\rm{Br_2}]$. Use the two cells below to both load all of the data, and plot it on the same axis."
   ]
  },
  {
   "cell_type": "code",
   "execution_count": null,
   "id": "64ec44fc",
   "metadata": {},
   "outputs": [],
   "source": [
    "## Loading the data\n",
    "\n",
    "# 1. First, enter all of your filenames in a list.\n",
    "#    Be sure that your filenames are in single quotes\n",
    "\n",
    "raw_data_files = ['1-JS.csv','2-JS.csv'] # replace what I have in quotes with your actual data files\n",
    "\n",
    "# 2. Next, we'll fill the following variables with the data,\n",
    "#    no need to change anything here\n",
    "\n",
    "abs_1 = []\n",
    "abs_2 = []\n",
    "abs_3 = []\n",
    "abs_4 = []\n",
    "abs_5 = []\n",
    "abs_6 = []\n",
    "abs_7 = []\n",
    "\n",
    "# We only need one list for times, since the are all 3 minutes\n",
    "times = []\n",
    "\n",
    "# 3. Now we'll let the next block fill these lists, no need to edit again \n",
    "#f_dict = [abs_1,abs_2,abs_3,abs_4,abs_5,abs_6,abs_7]\n",
    "f_dict = [abs_1,abs_2]\n",
    "for n,rfile in enumerate(raw_data_files):\n",
    "    times = []\n",
    "    with open(rfile,'r') as inf:\n",
    "        for m, line in enumerate(inf):\n",
    "            if (m > 1) and (m < 183):\n",
    "                line = line.strip().split(',')\n",
    "                times.append(float(line[0]))\n",
    "                f_dict[n-1].append(float(line[1]))\n",
    "abs_1 = np.asarray(abs_1)\n",
    "abs_2 = np.asarray(abs_2)\n",
    "abs_3 = np.asarray(abs_3)\n",
    "abs_4 = np.asarray(abs_4)\n",
    "abs_5 = np.asarray(abs_5)\n",
    "abs_6 = np.asarray(abs_6)\n",
    "abs_7 = np.asarray(abs_7)\n",
    "times = np.asarray(times)"
   ]
  },
  {
   "cell_type": "code",
   "execution_count": null,
   "id": "2e221d7c",
   "metadata": {},
   "outputs": [],
   "source": [
    "## In this cell, plot all of our data on the same set of axes.\n",
    "## You will want to include a legend to label each run. \n",
    "## Plot only markers, do not include a line to connect the points smoothly\n",
    "\n"
   ]
  },
  {
   "cell_type": "markdown",
   "id": "6cb08257",
   "metadata": {},
   "source": [
    "Next, we need to fit a line to each set of data, and take the slope. That slope is $-\\frac{dA}{dt}$. In the cell below, perform a fit for each aborbance vs time plot, convert that slope from $-\\frac{dA}{dt}$ to $v$, and then put those slopes in an ordered list."
   ]
  },
  {
   "cell_type": "code",
   "execution_count": null,
   "id": "68239898",
   "metadata": {},
   "outputs": [],
   "source": [
    "## I'll demonstrate the first one,\n",
    "\n",
    "data_1, stats = P.polyfit(times, abs_1,1, full=True)\n",
    "slope_1 = data_1[1]\n",
    "# I'll let you figure out how to get v\n",
    "v_1 = \n",
    "\n",
    "# Now, repeat this for the remaining 6 runs, being careful of your labels\n",
    "\n",
    "\n",
    "\n",
    "# After you have all fits encoded, store the vs here:\n",
    "\n",
    "rates = [v_1, ]\n",
    "rates = np.asarray(rates)"
   ]
  },
  {
   "cell_type": "markdown",
   "id": "47f8504e",
   "metadata": {},
   "source": [
    "## 3. Determining partial orders\n",
    "\n",
    "We now have lists of reactant concentrations and reaction rates for all seven of our runs. Thinking back to our initial rate equation,\n",
    "$$ v = k[\\rm{Ac}]^\\alpha[\\rm{H^+}]^\\beta[\\rm{Br_2}]^\\gamma$$\n",
    "we can take tha natural logarithm of both sides to get,\n",
    "$$ \\ln{v} = \\ln{k} + \\alpha\\ln[\\rm{Ac}] + \\beta \\ln[\\rm{H^+}] + \\gamma\\ln[\\rm{Br_2}]$$\n",
    "This is a line equation, with three independent variables, i.e. our three concentrations. We can solve for the coefficients, i.e. the reaction orders, by fitting each (natural log of the) independent variable to the (natural log of the) rates. The reaction orders are then taken as the slopes from these fits. Since we have multiple x-variables for our single y-variable, we need to perform a multiple linear regression.\n",
    "\n",
    "First, in the cell below, make a list of the natural logs of our reaction rates, and the natural logs of our concentrations:"
   ]
  },
  {
   "cell_type": "code",
   "execution_count": null,
   "id": "8c665874",
   "metadata": {},
   "outputs": [],
   "source": [
    "# the numpy function, np.log(), takes an array as a variable, \n",
    "# and returns a list of the ln of each element in the list\n",
    "\n",
    "ln_acetone_c =\n",
    "ln_br_c =\n",
    "ln_H_c = \n",
    "ln_v = "
   ]
  },
  {
   "cell_type": "markdown",
   "id": "98e01ab3",
   "metadata": {},
   "source": [
    "Next, we'll do our multiple linear regression with these lists. It is fairly similar to our fits from before, but with a different package,"
   ]
  },
  {
   "cell_type": "code",
   "execution_count": null,
   "id": "6e82535f",
   "metadata": {},
   "outputs": [],
   "source": [
    "# First I'll define a function for a line equation that we'll need\n",
    "def fn(x, a, b, c, d):\n",
    "    return a + b*x[2] + c*x[1] + d*x[0]\n",
    "# It needs the data in a slightly different format\n",
    "x = np.asarray([ln_acetone_c, ln_br_c, ln_H_c])\n",
    "popt,pcov = curve_fit(fn, x, ln_v)\n",
    "\n",
    "# Print popt. The data is organized as follows:\n",
    "# ln(k), alpha, beta, gamma\n"
   ]
  },
  {
   "cell_type": "markdown",
   "id": "0854ab7f",
   "metadata": {},
   "source": [
    "In the cell below, complete the table using the data we have just computed. In the \"integer orders\" column, select the nearest integer as the order, and use the equation ($ v = k[\\rm{Ac}]^\\alpha[\\rm{H^+}]^\\beta[\\rm{Br_2}]^\\gamma$) to get a k value using the integer orders. You will get a k for each run with the integer orders, use a cell below to calculate those, and report the average in the table."
   ]
  },
  {
   "cell_type": "markdown",
   "id": "9a034d91",
   "metadata": {},
   "source": [
    "||Order in Ac|Order in H$^+$|Order in Br$_2$| Total Order | k |\n",
    "|-|-|-|-|-|-|\n",
    "|Regression orders|\n",
    "|Integer orders|"
   ]
  },
  {
   "cell_type": "code",
   "execution_count": null,
   "id": "f9a0f803",
   "metadata": {},
   "outputs": [],
   "source": []
  },
  {
   "cell_type": "markdown",
   "id": "4a0cb8c7",
   "metadata": {},
   "source": [
    "## 4. Questions"
   ]
  },
  {
   "cell_type": "markdown",
   "id": "00b60953",
   "metadata": {},
   "source": [
    "1. Is the concentration vs time graph for bromine consistent with the partial order for Br$_2$ you determined using the differential method? Explain your reasoning."
   ]
  },
  {
   "cell_type": "markdown",
   "id": "070f4282",
   "metadata": {},
   "source": []
  },
  {
   "cell_type": "markdown",
   "id": "68189f86",
   "metadata": {},
   "source": [
    "2. What was your average value of k? How does it compare to literature values?"
   ]
  },
  {
   "cell_type": "markdown",
   "id": "6d38bb0e",
   "metadata": {},
   "source": []
  },
  {
   "cell_type": "markdown",
   "id": "bc6ed895",
   "metadata": {},
   "source": [
    "3. Let's analyze the proposed mechanism from the handout. It suggests an intermediate, $\\frac{d[Enol]}{dt}$ is formed, catalyzed by the presence of an acid. Use the steady-state approximation for this intermediate to derive a rate equation for $\\frac{d[AcBr]}{dt}$. When you solve this, combine the first two reaction equations into one (i.e., $Ac + H^+ \\leftrightarrow Enol + H^+$).(You don't need to use the fancy type-setting that I use, just type in the equation as best you can)."
   ]
  },
  {
   "cell_type": "markdown",
   "id": "6ddba763",
   "metadata": {},
   "source": []
  },
  {
   "cell_type": "markdown",
   "id": "74320fdf",
   "metadata": {},
   "source": [
    "4. Now, let's suppose that the second reaction, $Enol + Br_2 \\leftrightarrow AcBr + Br^-$, is \\emph{much} slower than the first rection. This allows us to write\n",
    "\n",
    "$$ k_{-1}[H^+] + k_2[Br_2] \\approx k_2[Br_2] $$\n",
    "\n",
    "Use this assumption to simplify your rate equation."
   ]
  },
  {
   "cell_type": "markdown",
   "id": "125f0baf",
   "metadata": {},
   "source": []
  },
  {
   "cell_type": "markdown",
   "id": "27b8849e",
   "metadata": {},
   "source": []
  },
  {
   "cell_type": "markdown",
   "id": "cbcd05a0",
   "metadata": {},
   "source": [
    "5. Describe the type of mechanism your data supports (or rejects). Does it support the acid-catalyzed keto-enol mechanism we discussed? Can you use or reject the idea that the steady-state approximation is valid here? Do your data support the idea that the bromination of enol is rate limiting? You may want to consult the literature as well."
   ]
  },
  {
   "cell_type": "markdown",
   "id": "ea2fb0d7",
   "metadata": {},
   "source": []
  }
 ],
 "metadata": {
  "kernelspec": {
   "display_name": "Python 3 (ipykernel)",
   "language": "python",
   "name": "python3"
  },
  "language_info": {
   "codemirror_mode": {
    "name": "ipython",
    "version": 3
   },
   "file_extension": ".py",
   "mimetype": "text/x-python",
   "name": "python",
   "nbconvert_exporter": "python",
   "pygments_lexer": "ipython3",
   "version": "3.9.12"
  }
 },
 "nbformat": 4,
 "nbformat_minor": 5
}
