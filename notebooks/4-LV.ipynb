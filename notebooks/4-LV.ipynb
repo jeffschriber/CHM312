{
 "cells": [
  {
   "cell_type": "code",
   "execution_count": null,
   "id": "20479533",
   "metadata": {},
   "outputs": [],
   "source": [
    "import numpy as np\n",
    "from numpy.polynomial import polynomial as P\n",
    "import matplotlib\n",
    "import matplotlib.pyplot as plt"
   ]
  },
  {
   "cell_type": "markdown",
   "id": "434caf57",
   "metadata": {},
   "source": [
    "# Liquid-Vapor Phase Diagram of Binary Mixtures\n",
    "\n"
   ]
  },
  {
   "cell_type": "markdown",
   "id": "6ab495e6",
   "metadata": {},
   "source": [
    "## 1. Acetone-Chloroform Mixture \n",
    "\n",
    " 1. Go to the Dortmund Data Bank, and search for acetone-chloroform vapor-liquid equilibrium data. \n",
    " 2. In the cell below, type in the temperature and mole fraction data you find. They follow the convention where $x$ is the mole fraction in the liquid phase, and $y$ is the mole fraction in the vapor phase."
   ]
  },
  {
   "cell_type": "code",
   "execution_count": null,
   "id": "7f850ba0",
   "metadata": {},
   "outputs": [],
   "source": [
    "temps = \n",
    "x = \n",
    "y = \n",
    "\n",
    "temps = np.asarray(temps)\n",
    "x = np.asarray(x)\n",
    "y = np.asarray(y)"
   ]
  },
  {
   "cell_type": "markdown",
   "id": "df2fb7cf",
   "metadata": {},
   "source": [
    " 3. Now, let's take a look at how the data looks. In the cell below, plot the vapor and liquid compositions against the boiling points. Be sure to label the two curves."
   ]
  },
  {
   "cell_type": "code",
   "execution_count": null,
   "id": "d9aee1dd",
   "metadata": {},
   "outputs": [],
   "source": []
  },
  {
   "cell_type": "markdown",
   "id": "3d872eb3",
   "metadata": {},
   "source": [
    "4. Looking at your plot, at what mole fraction is this mixture an azeotrope, and what is the corresponding boiling point?"
   ]
  },
  {
   "cell_type": "markdown",
   "id": "6e206f10",
   "metadata": {},
   "source": []
  },
  {
   "cell_type": "markdown",
   "id": "d3075cd9",
   "metadata": {},
   "source": [
    " 5. Using Dalton's law ($p_i = Y_ip_{tot}$), calculate the partial vapor pressure of acetone at each mole fraction. Store it in a list."
   ]
  },
  {
   "cell_type": "code",
   "execution_count": null,
   "id": "fdf77f62",
   "metadata": {},
   "outputs": [],
   "source": []
  },
  {
   "cell_type": "markdown",
   "id": "cf371959",
   "metadata": {},
   "source": [
    " 6. The Antoine equation is an empirical formula that allows you to reliably calculate vapor pressures of pure liquids at a given temperature. The form of the equation is,\n",
    "$$\\log p^*_i = A - \\frac{B}{T+C}$$\n",
    " where $A$, $B$, and $C$ are tabulated parameters that can be found on the NIST webpage.\n",
    "\n",
    "For each of your temperature data points, calculate the vapor pressure of *pure* acetone using the Antoine equation. Be sure to use the cell below to calculate the values, don't just use a separate calculator and type them by hand."
   ]
  },
  {
   "cell_type": "code",
   "execution_count": null,
   "id": "c94558cc",
   "metadata": {},
   "outputs": [],
   "source": []
  },
  {
   "cell_type": "markdown",
   "id": "5996094b",
   "metadata": {},
   "source": [
    " 7. In the cell below, use the equation,\n",
    " $$\\gamma_i = \\frac{p_i}{\\chi_i p_i^*}$$\n",
    " to calculate the activity coefficent for each of our measurements. "
   ]
  },
  {
   "cell_type": "code",
   "execution_count": null,
   "id": "35aa2da4",
   "metadata": {},
   "outputs": [],
   "source": []
  },
  {
   "cell_type": "markdown",
   "id": "90860e0f",
   "metadata": {},
   "source": [
    " 8. Plot the activity coefficent vs the mole fraction for acetone. "
   ]
  },
  {
   "cell_type": "code",
   "execution_count": null,
   "id": "57434eb1",
   "metadata": {},
   "outputs": [],
   "source": []
  },
  {
   "cell_type": "markdown",
   "id": "b36da429",
   "metadata": {},
   "source": [
    " 9. In the cell below repeat steps 5-8, finishing with a plot of activty coefficient vs mole fraction of chloroform."
   ]
  },
  {
   "cell_type": "code",
   "execution_count": null,
   "id": "e78db7de",
   "metadata": {},
   "outputs": [],
   "source": []
  },
  {
   "cell_type": "markdown",
   "id": "dd423740",
   "metadata": {},
   "source": [
    "## 2. Ethyl Acetate-Chloroform Mixture \n",
    "\n",
    " 1. Go to the Dortmund Data Bank, and search for ethyl acetate-chloroform vapor-liquid equilibrium data. \n",
    " 2. In the cell below, type in the temperature and mole fraction data you find. They follow the convention where $x$ is the mole fraction in the liquid phase, and $y$ is the mole fraction in the vapor phase."
   ]
  },
  {
   "cell_type": "code",
   "execution_count": null,
   "id": "3385d8d1",
   "metadata": {},
   "outputs": [],
   "source": [
    "temps = \n",
    "x = \n",
    "y = \n",
    "\n",
    "temps = np.asarray(temps)\n",
    "x = np.asarray(x)\n",
    "y = np.asarray(y)"
   ]
  },
  {
   "cell_type": "markdown",
   "id": "83c12928",
   "metadata": {},
   "source": [
    " 3. Now, let's take a look at how the data looks. In the cell below, plot the vapor and liquid compositions against the boiling points. Be sure to label the two curves."
   ]
  },
  {
   "cell_type": "code",
   "execution_count": null,
   "id": "b9367e37",
   "metadata": {},
   "outputs": [],
   "source": []
  },
  {
   "cell_type": "markdown",
   "id": "740f7a2d",
   "metadata": {},
   "source": [
    "4. Looking at your plot, at what mole fraction is this mixture an azeotrope, and what is the corresponding boiling point?"
   ]
  },
  {
   "cell_type": "markdown",
   "id": "03ce13ff",
   "metadata": {},
   "source": []
  },
  {
   "cell_type": "markdown",
   "id": "cd5d506b",
   "metadata": {},
   "source": [
    " 5. Using Dalton's law ($p_i = Y_ip_{tot}$), calculate the vapor pressure of chloroform at each mole fraction. Store it in a list."
   ]
  },
  {
   "cell_type": "code",
   "execution_count": null,
   "id": "657a369c",
   "metadata": {},
   "outputs": [],
   "source": []
  },
  {
   "cell_type": "markdown",
   "id": "a762cce2",
   "metadata": {},
   "source": [
    " 6. The Antoine equation is an empirical formula that allows you to reliably calculate vapor pressures of pure liquids at a given temperature. The form of the equation is,\n",
    "$$\\log p^*_i = A - \\frac{B}{T+C}$$\n",
    " where $A$, $B$, and $C$ are tabulated parameters that can be found on the NIST webpage.\n",
    "\n",
    "For each of your temperature data points, calculate the vapor pressure of *pure* acetone using the Antoine equation. Be sure to use the cell below to calculate the values, don't just use a separate calculator and type them by hand."
   ]
  },
  {
   "cell_type": "code",
   "execution_count": null,
   "id": "6c307002",
   "metadata": {},
   "outputs": [],
   "source": []
  },
  {
   "cell_type": "markdown",
   "id": "b4bd0d66",
   "metadata": {},
   "source": [
    " 7. In the cell below, use the equation,\n",
    " $$\\gamma_i = \\frac{p_i}{\\chi_i p_i^*}$$\n",
    " to calculate the activity coefficent for each of our measurements. "
   ]
  },
  {
   "cell_type": "code",
   "execution_count": null,
   "id": "19d18fbb",
   "metadata": {},
   "outputs": [],
   "source": []
  },
  {
   "cell_type": "markdown",
   "id": "83dc5efc",
   "metadata": {},
   "source": [
    " 8. Plot the activity coefficent vs the mole fraction for chloroform. "
   ]
  },
  {
   "cell_type": "code",
   "execution_count": null,
   "id": "56693ce8",
   "metadata": {},
   "outputs": [],
   "source": []
  },
  {
   "cell_type": "markdown",
   "id": "9abbc021",
   "metadata": {},
   "source": [
    " 9. In the cell below repeat steps 5-8, finishing with a plot of activty coefficient vs mole fraction of ethyl acetate."
   ]
  },
  {
   "cell_type": "code",
   "execution_count": null,
   "id": "fdd0ad47",
   "metadata": {},
   "outputs": [],
   "source": []
  },
  {
   "cell_type": "markdown",
   "id": "fa24e8cf",
   "metadata": {},
   "source": [
    "## 3. Some Questions"
   ]
  },
  {
   "cell_type": "markdown",
   "id": "b875d763",
   "metadata": {},
   "source": [
    " 1. Based on the data above, would fractional distillation be a reasonable approach to separate any of the two solutions? Explain your reasoning."
   ]
  },
  {
   "cell_type": "markdown",
   "id": "3a2c9807",
   "metadata": {},
   "source": []
  },
  {
   "cell_type": "markdown",
   "id": "4deadb4f",
   "metadata": {},
   "source": [
    " 2. Are the vapor pressures at the azeotropic compositions of each mixture more or less than the vapor pressures predicted by Raoult's Law?"
   ]
  },
  {
   "cell_type": "markdown",
   "id": "26457050",
   "metadata": {},
   "source": []
  },
  {
   "cell_type": "markdown",
   "id": "7cbfc3b0",
   "metadata": {},
   "source": [
    " 3. Do the systems show positive or negative deviations from ideality?"
   ]
  },
  {
   "cell_type": "markdown",
   "id": "cd3ac165",
   "metadata": {},
   "source": []
  },
  {
   "cell_type": "markdown",
   "id": "3ef08e5c",
   "metadata": {},
   "source": [
    " 4. Based on the above data and your answers, what can be said about the relative interactions between all three species? What do you think may be the origins of these interactions?"
   ]
  },
  {
   "cell_type": "markdown",
   "id": "d344429c",
   "metadata": {},
   "source": []
  },
  {
   "cell_type": "markdown",
   "id": "661c9c7d",
   "metadata": {},
   "source": [
    " 5. Based on the activities, does either mixture appear to behave ideally?"
   ]
  },
  {
   "cell_type": "markdown",
   "id": "df75cb8d",
   "metadata": {},
   "source": []
  },
  {
   "cell_type": "markdown",
   "id": "b3b287cd",
   "metadata": {},
   "source": [
    "## 4. Let's test it out\n",
    "\n",
    "In the remainder of this exercise, we're going to use some computational tools to investigate the intermolecular forces that may be causing some non-ideal behavior in our mixtures.\n",
    "\n",
    "First, discuss with your lab group a protocol to do this. How might we measure the non-ideality of a mixture with computational tools?\n",
    "\n",
    "Once your group has a plan, discuss it with me. I'll provide guidance about which methods to use and some basics on how to use them.\n",
    "\n",
    "Finally, execute your plan. this may take more than the allotted time period, and that's fine. The point of this final exercise is to help prepare you for the final project in this course.\n",
    "\n",
    "There are no more questions from me to answer, but, after all of your computations, write a 2+ paragraph summary of what you did. Specifically, start with a short paragraph summarizing what your computational approach was, and what tools you used in this approach. Then, in 1 (or more) paragraph(s), summarize your results and relate them to the given experimental data. "
   ]
  },
  {
   "cell_type": "code",
   "execution_count": null,
   "id": "57306d1f",
   "metadata": {},
   "outputs": [],
   "source": [
    "# I'll get you started:\n",
    "import psi4\n",
    "\n",
    "# For geometry optimizations, you'll wand the following lines:\n",
    "# psi4.set_options({'frag_mode':'MULTI', 'freeze_core':'True', 'guess':'sad', 'G_CONVERGENCE':\"GAU_LOOSE\"})\n",
    "# psi4.optimize('b3lyp-d/6-31g')\n",
    "\n",
    "# For the SAPT computations, you'll want:\n",
    "# psi4.energy(\"SAPT0/aug-cc-pvdz\")"
   ]
  },
  {
   "cell_type": "code",
   "execution_count": null,
   "id": "5af5502e",
   "metadata": {},
   "outputs": [],
   "source": [
    "mol = psi4.geometry(\"\"\"\n",
    "C1         -8.4361752018      5.2212916748     -0.9476518719                 \n",
    "C2         -6.9534843903      5.2872963572     -0.7499154049                 \n",
    "C3         -9.0535440115      4.0289574857     -1.6102606151                 \n",
    "H4         -8.6513451214      3.9259388010     -2.6395875691                 \n",
    "H5        -10.1578616908      4.1372217779     -1.6651418179                 \n",
    "H6         -8.8137259063      3.1130398633     -1.0302546822                 \n",
    "H7         -6.4441183604      5.2518268042     -1.7350717799                 \n",
    "H8         -6.6197412190      4.4256844833     -0.1342826169                 \n",
    "H9         -6.6686951834      6.2275433246     -0.2309835979                 \n",
    "O10        -9.1433556439      6.1420802070     -0.5666538918                 \n",
    "C11        -9.9672262365      4.9828831174      2.5769607502                 \n",
    "Cl12       -8.1895042951      4.9926623387      2.6025710369                 \n",
    "Cl13      -10.5545896560      3.3427321612      2.9273626223                 \n",
    "H14       -10.3332157827      5.2943085577      1.5785336230                 \n",
    "Cl15      -10.5803645404      6.1129788229      3.8038960201                 \n",
    "\n",
    "\"\"\")\n",
    "psi4.set_options({'frag_mode':'MULTI', 'freeze_core':'True', 'guess':'sad', 'G_CONVERGENCE':\"GAU_LOOSE\"})\n",
    "psi4.optimize('b3lyp-d/6-31g')"
   ]
  },
  {
   "cell_type": "code",
   "execution_count": null,
   "id": "cfd1f31d",
   "metadata": {},
   "outputs": [],
   "source": []
  }
 ],
 "metadata": {
  "kernelspec": {
   "display_name": "Python 3 (ipykernel)",
   "language": "python",
   "name": "python3"
  },
  "language_info": {
   "codemirror_mode": {
    "name": "ipython",
    "version": 3
   },
   "file_extension": ".py",
   "mimetype": "text/x-python",
   "name": "python",
   "nbconvert_exporter": "python",
   "pygments_lexer": "ipython3",
   "version": "3.8.10"
  }
 },
 "nbformat": 4,
 "nbformat_minor": 5
}
