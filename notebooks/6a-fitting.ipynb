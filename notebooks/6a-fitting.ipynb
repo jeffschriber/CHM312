{
 "cells": [
  {
   "cell_type": "code",
   "execution_count": null,
   "id": "b4dc8e23",
   "metadata": {},
   "outputs": [],
   "source": [
    "import numpy as np\n",
    "import os\n",
    "from numpy.polynomial import polynomial as P\n",
    "import matplotlib\n",
    "import matplotlib.pyplot as plt\n",
    "import scipy\n",
    "from scipy.optimize import curve_fit"
   ]
  },
  {
   "cell_type": "markdown",
   "id": "358aae19",
   "metadata": {},
   "source": [
    "# 7a: Curve fitting\n",
    "\n",
    "In this lab, we need to fit a complicated function in order to obtain our $t\\rightarrow\\infty$ absorbance value. This notebook will show you how to do that.\n",
    "\n",
    "First we need our data-loading function."
   ]
  },
  {
   "cell_type": "code",
   "execution_count": null,
   "id": "7adcb9a8",
   "metadata": {},
   "outputs": [],
   "source": [
    "def load_data(filename):\n",
    "    \"\"\"\n",
    "    load_data\n",
    "    \n",
    "    Keywords:\n",
    "        filename (str); filename and path of .csv data\n",
    "        \n",
    "    Output:\n",
    "        data ([np.array,np.array,...,n]); Returns an n-element list. The first element is a np.array\n",
    "                                    with the times. Each element thereafter is a np.array with the\n",
    "                                    absorbances, one for each remaining column in the csv\n",
    "                                    There is no re-sorting.\n",
    "    \"\"\"\n",
    "    \n",
    "    # We'll handle any errors if the filename is wrong\n",
    "    if not os.path.isfile(filename):\n",
    "        raise Exception(\"Cannot file, check the filename and path\")\n",
    "    else:\n",
    "        print(\"    Loading data from %s\" % filename)\n",
    "        \n",
    "    data = []\n",
    "    ncol = 0\n",
    "    # Let's go through the file\n",
    "    with open(filename, 'r') as infile:\n",
    "        for n,line in enumerate(infile):\n",
    "            line = line.strip().split(',')\n",
    "            # skip the first line\n",
    "            if n == 0:\n",
    "                ncol = len(line)\n",
    "                data = [[] for _ in range(ncol)]\n",
    "                \n",
    "                # skip lines that don't have absorbance data       \n",
    "            try:\n",
    "                for col in range(ncol):          \n",
    "                    el = float(line[col].strip())\n",
    "                for col in range(ncol):\n",
    "                    data[col].append(float(line[col].strip()))\n",
    "            except:\n",
    "                continue\n",
    "    \n",
    "    for col in range(ncol):\n",
    "        data[col] = np.asarray(data[col])\n",
    "    \n",
    "    return data"
   ]
  },
  {
   "cell_type": "code",
   "execution_count": null,
   "id": "3dc887ac",
   "metadata": {},
   "outputs": [],
   "source": [
    "times, a1, a2, a3, a4 = load_data() # put your data file in quotes here"
   ]
  },
  {
   "cell_type": "markdown",
   "id": "5600a498",
   "metadata": {},
   "source": [
    "Now we need to define the form of our fitting function,"
   ]
  },
  {
   "cell_type": "code",
   "execution_count": null,
   "id": "b862f645",
   "metadata": {},
   "outputs": [],
   "source": [
    "def model_func(x, a, k, b):\n",
    "    return b + a * np.exp(-k*x)"
   ]
  },
  {
   "cell_type": "markdown",
   "id": "173e6f94",
   "metadata": {},
   "source": [
    "And we'll need to give it an initial guess,"
   ]
  },
  {
   "cell_type": "code",
   "execution_count": null,
   "id": "8b332a97",
   "metadata": {},
   "outputs": [],
   "source": [
    "guess = [1,0.5,0.3]"
   ]
  },
  {
   "cell_type": "markdown",
   "id": "a0d5910f",
   "metadata": {},
   "source": [
    "Now we can run the optimization,"
   ]
  },
  {
   "cell_type": "code",
   "execution_count": null,
   "id": "69673f68",
   "metadata": {},
   "outputs": [],
   "source": [
    "opt, pcov = scipy.optimize.curve_fit(model_func, times, a4, guess)\n",
    "a, k, b = opt\n",
    "print(a, k, b)"
   ]
  },
  {
   "cell_type": "markdown",
   "id": "80347dd7",
   "metadata": {},
   "source": [
    "We can use these values to then get $A_f$, our absorbance at $t\\rightarrow\\infty$,"
   ]
  },
  {
   "cell_type": "code",
   "execution_count": null,
   "id": "c547dabc",
   "metadata": {},
   "outputs": [],
   "source": [
    "A_f = model_func(100000,a, k, b)\n",
    "print(A_f)"
   ]
  },
  {
   "cell_type": "markdown",
   "id": "f7f62943",
   "metadata": {},
   "source": [
    "Notice that this is our b parameter"
   ]
  },
  {
   "cell_type": "code",
   "execution_count": null,
   "id": "7e522fff",
   "metadata": {},
   "outputs": [],
   "source": []
  }
 ],
 "metadata": {
  "kernelspec": {
   "display_name": "Python 3 (ipykernel)",
   "language": "python",
   "name": "python3"
  },
  "language_info": {
   "codemirror_mode": {
    "name": "ipython",
    "version": 3
   },
   "file_extension": ".py",
   "mimetype": "text/x-python",
   "name": "python",
   "nbconvert_exporter": "python",
   "pygments_lexer": "ipython3",
   "version": "3.10.11"
  }
 },
 "nbformat": 4,
 "nbformat_minor": 5
}
