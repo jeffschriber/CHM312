{
 "cells": [
  {
   "cell_type": "code",
   "execution_count": null,
   "id": "b8f3128a",
   "metadata": {},
   "outputs": [],
   "source": [
    "import numpy as np\n",
    "from numpy.polynomial import polynomial as P\n",
    "import matplotlib\n",
    "import matplotlib.pyplot as plt"
   ]
  },
  {
   "cell_type": "markdown",
   "id": "35d82b62",
   "metadata": {},
   "source": [
    "# Activity 2: The Joule-Thomson Experiment\n",
    "\n",
    "This notebook will guide you through calculations regarding the Joule Thompson experiment. In Part I, you will analyze data collected during lab. In Part II, you will compute Joule-Thomson coefficients from data I provide on gas molecules we did not study. In Part III, you will compute the Joule-Thomson coefficients using empirical data with theoretical models like the Van der Waals equation."
   ]
  },
  {
   "cell_type": "markdown",
   "id": "0b3df678",
   "metadata": {},
   "source": [
    "## Part I. Analyzing your data\n",
    "\n",
    "Recall that the Joule-Thomson coefficient is defined as,\n",
    "$$\\mu = (\\frac{\\partial T}{\\partial P})_H$$\n",
    "which we will approximate using our $T,P$ data taken at constant $H$."
   ]
  },
  {
   "cell_type": "markdown",
   "id": "0311371b",
   "metadata": {},
   "source": [
    "## Helium"
   ]
  },
  {
   "cell_type": "markdown",
   "id": "44bcc9c4",
   "metadata": {},
   "source": [
    " 1. In the cell below, carefully type in your raw data"
   ]
  },
  {
   "cell_type": "code",
   "execution_count": null,
   "id": "d8714424",
   "metadata": {},
   "outputs": [],
   "source": [
    "# the pressures:\n",
    "p_he = []\n",
    "\n",
    "# the initial temps:\n",
    "t_he_i = []\n",
    "\n",
    "# the final temps:\n",
    "t_he_f = []\n",
    "\n",
    "p_he = np.asarray(p_he)\n",
    "t_he_i = np.asarray(t_he_i)\n",
    "t_he_f = np.asarray(t_he_f)"
   ]
  },
  {
   "cell_type": "markdown",
   "id": "9f784e15",
   "metadata": {},
   "source": [
    " 2. Use these lists to make two new lists, defining $\\Delta p$ and $\\Delta T$. We will label them with our trial number."
   ]
  },
  {
   "cell_type": "code",
   "execution_count": null,
   "id": "b5855771",
   "metadata": {},
   "outputs": [],
   "source": [
    "dp_he_1 = []\n",
    "\n",
    "dt_he_1 = []\n",
    "\n",
    "dp_he_1 = np.asarray(dp_he_1)\n",
    "dt_he_1 = np.asarray(dt_he_1)"
   ]
  },
  {
   "cell_type": "markdown",
   "id": "4d19983e",
   "metadata": {},
   "source": [
    " 3. Now, we want to fith the data to a line. The slope of this line will be $\\mu$."
   ]
  },
  {
   "cell_type": "code",
   "execution_count": null,
   "id": "5b744ee8",
   "metadata": {},
   "outputs": [],
   "source": [
    "# This fits the line, replace X and Y values with the appropriate ones for this lab\n",
    "he_data_1, stats = P.polyfit(X,Y,1, full=True)\n",
    "he_slope_1 = he_data_1[1]"
   ]
  },
  {
   "cell_type": "markdown",
   "id": "40bc2e83",
   "metadata": {},
   "source": [
    " 4. In the following three cells, repeat steps 1-3 for your second trial"
   ]
  },
  {
   "cell_type": "code",
   "execution_count": null,
   "id": "3eb05474",
   "metadata": {},
   "outputs": [],
   "source": []
  },
  {
   "cell_type": "code",
   "execution_count": null,
   "id": "21ec021c",
   "metadata": {},
   "outputs": [],
   "source": []
  },
  {
   "cell_type": "code",
   "execution_count": null,
   "id": "d4074c30",
   "metadata": {},
   "outputs": [],
   "source": []
  },
  {
   "cell_type": "markdown",
   "id": "c4d46716",
   "metadata": {},
   "source": [
    " 5. Compute the average value of $\\mu$ as well as the relative range. Calculate and print them in the cell below."
   ]
  },
  {
   "cell_type": "code",
   "execution_count": null,
   "id": "eb7333f5",
   "metadata": {},
   "outputs": [],
   "source": []
  },
  {
   "cell_type": "markdown",
   "id": "7740c482",
   "metadata": {},
   "source": [
    "## Carbon Dioxide"
   ]
  },
  {
   "cell_type": "markdown",
   "id": "c0490659",
   "metadata": {},
   "source": [
    " 6. In the cell below, carefully type in your raw data"
   ]
  },
  {
   "cell_type": "code",
   "execution_count": null,
   "id": "ba69960c",
   "metadata": {},
   "outputs": [],
   "source": [
    "# the pressures:\n",
    "p_cd_1 = []\n",
    "\n",
    "# the initial temps:\n",
    "t_cd_1_i = []\n",
    "\n",
    "# the final temps:\n",
    "t_cd_1_f = []\n",
    "\n",
    "p_cd_1 = np.asarray(p_cd_1)\n",
    "t_cd_1_i = np.asarray(t_cd_1_i)\n",
    "t_cd_1_f = np.asarray(t_cd_1_f)"
   ]
  },
  {
   "cell_type": "markdown",
   "id": "eeb53632",
   "metadata": {},
   "source": [
    " 7. Use these lists to make two new lists, defining $\\Delta p$ and $\\Delta T$. We will label them with our trial number."
   ]
  },
  {
   "cell_type": "code",
   "execution_count": null,
   "id": "7921fb98",
   "metadata": {},
   "outputs": [],
   "source": [
    "dp_cd_1 = []\n",
    "\n",
    "dt_cd_1 = []\n",
    "\n",
    "dp_cd_1 = np.asarray(dp_cd_1)\n",
    "dt_cd_1 = np.asarray(dt_cd_1)"
   ]
  },
  {
   "cell_type": "markdown",
   "id": "2c929b5c",
   "metadata": {},
   "source": [
    " 8. Now, we want to fith the data to a line. The slope of this line will be $\\mu$."
   ]
  },
  {
   "cell_type": "code",
   "execution_count": null,
   "id": "4cfd8703",
   "metadata": {},
   "outputs": [],
   "source": [
    "# This fits the line, replace X and Y values with the appropriate ones for this lab\n",
    "cd_data_1, stats = P.polyfit(X,Y,1, full=True)\n",
    "cd_slope_1 = cd_data_1[1]"
   ]
  },
  {
   "cell_type": "markdown",
   "id": "13d9f8f4",
   "metadata": {},
   "source": [
    " 9. In the following three cells, repeat steps 1-3 for your second trial"
   ]
  },
  {
   "cell_type": "code",
   "execution_count": null,
   "id": "a69184ae",
   "metadata": {},
   "outputs": [],
   "source": []
  },
  {
   "cell_type": "code",
   "execution_count": null,
   "id": "16b3ea12",
   "metadata": {},
   "outputs": [],
   "source": []
  },
  {
   "cell_type": "code",
   "execution_count": null,
   "id": "71b5e88e",
   "metadata": {},
   "outputs": [],
   "source": []
  },
  {
   "cell_type": "markdown",
   "id": "6c1ac9cd",
   "metadata": {},
   "source": [
    " 10. Compute the average value of $\\mu$ as well as the relative range. Calculate and print them in the cell below."
   ]
  },
  {
   "cell_type": "code",
   "execution_count": null,
   "id": "dcc6e0d6",
   "metadata": {},
   "outputs": [],
   "source": []
  },
  {
   "cell_type": "markdown",
   "id": "6cdc3fc0",
   "metadata": {},
   "source": [
    "## Plot\n",
    "\n",
    " 11. In the cell below, plot all of your runs on the same set of axes. Be sure to label each set of points properly, using a legend. Bonus points if you can include a plot of the regression line as well."
   ]
  },
  {
   "cell_type": "code",
   "execution_count": null,
   "id": "4f189f0c",
   "metadata": {},
   "outputs": [],
   "source": [
    "# Your plotting code here\n",
    "plt.plot()"
   ]
  },
  {
   "cell_type": "markdown",
   "id": "ad793152",
   "metadata": {},
   "source": [
    "## Part II\n",
    "This is basically re-doing part 1, except for nitrogen data I am providing."
   ]
  },
  {
   "cell_type": "markdown",
   "id": "da0ddcc4",
   "metadata": {},
   "source": [
    " 1. The cell below contains raw data obtained for nitrogen. Execute the cell, but no need to edit anything"
   ]
  },
  {
   "cell_type": "code",
   "execution_count": null,
   "id": "913bc657",
   "metadata": {},
   "outputs": [],
   "source": [
    "# the pressures, these are in bar\n",
    "p_n2 = [0.5,1.0,1.5,2.0,2.5,3.0,3.5,4.0,4.5,5.0]\n",
    "\n",
    "# the delta temps, in K:\n",
    "dt_n2 = [0.493,0.0,-0.123,-0.172,-0.246,-0.320,-0.493,-0.591,-0.665,-0.813]\n",
    "\n",
    "\n",
    "p_n2 = np.asarray(p_n2)\n",
    "dt_n2 = np.asarray(dt_n2)\n"
   ]
  },
  {
   "cell_type": "markdown",
   "id": "e9ac4995",
   "metadata": {},
   "source": [
    " 2. Use these lists to make just one new list, defining $\\Delta p$. Note that above we already have $\\Delta T$."
   ]
  },
  {
   "cell_type": "code",
   "execution_count": null,
   "id": "defa7e08",
   "metadata": {},
   "outputs": [],
   "source": [
    "dp_n2 = \n"
   ]
  },
  {
   "cell_type": "markdown",
   "id": "0f807b08",
   "metadata": {},
   "source": [
    " 3. Now, we want to fit the data to a line. The slope of this line will be $\\mu$."
   ]
  },
  {
   "cell_type": "code",
   "execution_count": null,
   "id": "758ad04a",
   "metadata": {},
   "outputs": [],
   "source": [
    "# This fits the line, replace X and Y values with the appropriate ones for this lab\n",
    "data_n2, stats = P.polyfit(X,Y,1, full=True)\n",
    "slope_n2 = data_n2[1]"
   ]
  },
  {
   "cell_type": "markdown",
   "id": "a53f9b48",
   "metadata": {},
   "source": [
    " 4. In the cell below, plot the nitrogen data"
   ]
  },
  {
   "cell_type": "code",
   "execution_count": null,
   "id": "14b8f6c1",
   "metadata": {},
   "outputs": [],
   "source": [
    "plt.plot()"
   ]
  },
  {
   "cell_type": "markdown",
   "id": "acd9d695",
   "metadata": {},
   "source": [
    "## Part 3\n",
    "\n",
    "We have already learned about the Van der Waals equation of state. It is far from the only equation of state we can choose; there are many others that also attempt to account for intermolecular interactions. In the remainder of this assignment, we will consider two equations of state.\n",
    "\n",
    " 1. The Van der Waals equation:\n",
    " $$p=\\frac{RT}{\\bar{V}-b}-\\frac{a}{\\bar{V}^2}$$\n",
    " with associated Joule-Thomson coefficient,\n",
    " $$\\mu_{\\rm{vdw}} = \\frac{1}{\\bar{C}_P}(\\frac{2a}{RT}-b)$$\n",
    " \n",
    " 2. The Beattie-Bridgeman equation:\n",
    " $$p=\\frac{RT(1-\\epsilon)}{\\bar{V}^2}(\\bar{V}+B)-\\frac{a}{\\bar{V}^2}$$\n",
    " with associated Joule-Thomson coefficient,\n",
    " $$\\mu_{\\rm{BB}} = \\frac{1}{\\bar{C}_P}(-B_0 + \\frac{2A_0}{RT} + \\frac{4c}{T^3} + p*[\\frac{2B_0b}{RT} - \\frac{3A_0a}{(RT)^2} + \\frac{5B_0c}{RT^4}])$$\n",
    " where $A = A_0(1-\\frac{a}{\\bar{V}})$, $B = B_0(1-\\frac{b}{\\bar{V}})$, and $\\epsilon = \\frac{c}{\\bar{V}T^3}$."
   ]
  },
  {
   "cell_type": "markdown",
   "id": "bdf37656",
   "metadata": {},
   "source": [
    "Below is a table containing all pertinent constants for each model above for the gases we studied.\n",
    "\n",
    "| |helium|nitrogen|carbon dioxide|\n",
    "|-|-|-|-|\n",
    "|van der Waals| | | |\n",
    "|$a$|0.03457|1.408|3.640|\n",
    "|$b$|0.02370|0.03913|0.042067|\n",
    "|Beattie-Bridgeman| | | |\n",
    "|$A_0$|0.0219|1.3623|5.0728|\n",
    "|$a$|0.05984|0.02617|0.07132|\n",
    "|$B_0$|0.01400|0.05046|0.10476|\n",
    "|$b$|0.0|-0.00691|0.07235|\n",
    "|$c\\times10^{-4}$|0.0040|4.20|66.00|\n",
    "\n",
    "Units assumed are $\\bar{V}$ in $L*\\rm{mol}^{-1}$, $p$ in bar, $T$ in $K$, and $R = 0.083145 ~\\rm{bar}*L*K^{-1}\\rm{mol}^{-1}$\n"
   ]
  },
  {
   "cell_type": "markdown",
   "id": "42864357",
   "metadata": {},
   "source": [
    "1. In the cells below, calculate $\\mu_{\\rm{vdw}}$ for each gas we studied, assuming identical conditions to those in lab."
   ]
  },
  {
   "cell_type": "code",
   "execution_count": null,
   "id": "89c57c63",
   "metadata": {},
   "outputs": [],
   "source": []
  },
  {
   "cell_type": "code",
   "execution_count": null,
   "id": "c9cc14e1",
   "metadata": {},
   "outputs": [],
   "source": []
  },
  {
   "cell_type": "code",
   "execution_count": null,
   "id": "1f0d28e7",
   "metadata": {},
   "outputs": [],
   "source": []
  },
  {
   "cell_type": "markdown",
   "id": "ae460b04",
   "metadata": {},
   "source": [
    "2. In the cells below, calculate $\\mu_{\\rm{BB}}$ for each gas we studied, assuming identical conditions to those in lab."
   ]
  },
  {
   "cell_type": "code",
   "execution_count": null,
   "id": "3f2837f9",
   "metadata": {},
   "outputs": [],
   "source": []
  },
  {
   "cell_type": "code",
   "execution_count": null,
   "id": "722cd68e",
   "metadata": {},
   "outputs": [],
   "source": []
  },
  {
   "cell_type": "code",
   "execution_count": null,
   "id": "790f0fba",
   "metadata": {},
   "outputs": [],
   "source": []
  },
  {
   "cell_type": "markdown",
   "id": "545b4e48",
   "metadata": {},
   "source": [
    "3. Complete the following table, inputting your experimental and theoretical values. For the experimental values, be sure to use the average. I am also asking you to find literature values for the Joule-Thomson coefficients. These quantities are temperature dependent, so in your search, find the coefficient with at a temperature as near as possible to the one we use."
   ]
  },
  {
   "cell_type": "markdown",
   "id": "21d9bd71",
   "metadata": {},
   "source": [
    "| |helium|nitrogen|carbon dioxide|\n",
    "|-|-|-|-|\n",
    "|$\\mu_{\\rm{exp}}$ | | | |\n",
    "|$\\mu_{\\rm{Lit.}}$| | | |\n",
    "|$\\mu_{\\rm{vdw}}$ | | | |\n",
    "|$\\mu_{\\rm{BB}}$  | | | |"
   ]
  },
  {
   "cell_type": "markdown",
   "id": "d4c6c32a",
   "metadata": {},
   "source": [
    "4. In the remaining cell, write a 1-2 paragraph discussion (no need to go crazy here, but do elaborate) of your results, referencing the table above. Be sure to discuss the relative values of $\\mu$, and how those values relate to the ideal/non-ideal behavior of each gas. Connect the structure of each gas to any measured non-ideal behavior. Comment on the accuracy of your experimental results and of the semi-empirical models. "
   ]
  },
  {
   "cell_type": "code",
   "execution_count": null,
   "id": "26c4b0ea",
   "metadata": {},
   "outputs": [],
   "source": []
  }
 ],
 "metadata": {
  "kernelspec": {
   "display_name": "Python 3 (ipykernel)",
   "language": "python",
   "name": "python3"
  },
  "language_info": {
   "codemirror_mode": {
    "name": "ipython",
    "version": 3
   },
   "file_extension": ".py",
   "mimetype": "text/x-python",
   "name": "python",
   "nbconvert_exporter": "python",
   "pygments_lexer": "ipython3",
   "version": "3.8.10"
  }
 },
 "nbformat": 4,
 "nbformat_minor": 5
}
