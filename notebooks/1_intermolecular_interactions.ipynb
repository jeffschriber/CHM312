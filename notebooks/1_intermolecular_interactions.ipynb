{
 "cells": [
  {
   "cell_type": "code",
   "execution_count": null,
   "id": "80687895",
   "metadata": {},
   "outputs": [],
   "source": [
    "import psi4\n",
    "import moly"
   ]
  },
  {
   "cell_type": "markdown",
   "id": "1af93d9f",
   "metadata": {},
   "source": [
    "# Can We Visually Predict Binding Energies?\n",
    "Developed by Tricia D. Sheperd, Ryan C. Fortenberry, Matthew Kennedy, and C. David Sherrill\n",
    "\n",
    "Adapted to Jupyter by Jeff Schriber\n",
    "\n",
    "## Background\n",
    "\n",
    "A better understanding of weak, non-covalent binding forces is crucial to a large number of biological processes. For example, recognition of substrate by enzyme, antigen by antibody, neurotransmitter by neuroreceptor, etc., all rely on such interactions. Also, many interesting proteins are part of multisubunit and/or multiprotein assemblies, and the same forces are involved in multisubunit recognition and assembly.\n",
    "\n",
    "While substantial advances continue through direct studies of complex biological systems, small model systems are typically more amenable to detailed, physical investigation. For example, electrostatic potential surfaces have proven to be a very valuable tool in evaluating cation-$\\pi$ interactions. Repeating the study of S. Mecozzi, et al., we look at a collection of representative aromatic systems and compare the qualitative features of the electrostatic potential surface with the calculated binding energy of Na$^+$ to the ring."
   ]
  },
  {
   "cell_type": "markdown",
   "id": "0290b82e",
   "metadata": {},
   "source": [
    "## Part 1. Benzene - Sodium Cation dimer\n",
    "\n",
    "1. Use the cell below to calculate the single-point energy of a sodium cation. Notice how the charge is specified to 1"
   ]
  },
  {
   "cell_type": "code",
   "execution_count": null,
   "id": "78d3b4e5",
   "metadata": {},
   "outputs": [],
   "source": [
    "mol = psi4.geometry(\"\"\"\n",
    "1 1\n",
    "Na\n",
    "\"\"\")\n",
    "\n",
    "psi4.energy(\"hf/6-31g**\")"
   ]
  },
  {
   "cell_type": "markdown",
   "id": "44f62f28",
   "metadata": {},
   "source": [
    "2. Record the energy of the sodium cation in the table at the end of this section.\n",
    "3. Use the cells below to calculate the energy of the benzene molecule. You will need to first build it using avogadro, then optimize the coordinates."
   ]
  },
  {
   "cell_type": "code",
   "execution_count": null,
   "id": "d53100c7",
   "metadata": {},
   "outputs": [],
   "source": [
    "## Get optimized coordinates here\n",
    "mol = psi4.geometry(\"\"\"\n",
    "                \n",
    "\"\"\")\n",
    "\n",
    "psi4.optimize('hf/6-31g**')"
   ]
  },
  {
   "cell_type": "code",
   "execution_count": null,
   "id": "d51050f1",
   "metadata": {},
   "outputs": [],
   "source": [
    "## Get the single-point energy here\n",
    "mol = psi4.geometry(\"\"\"\n",
    "\n",
    "\"\"\")\n",
    "\n",
    "psi4.set_options({\"cubeprop_tasks\":['ESP'], 'cubic_grid_overage':[4.0,4.0,8.0], 'cubic_grid_spacing':[0.4,0.4,0.4]})\n",
    "E, wfn = psi4.energy('hf/6-31g**', return_wfn=True)\n",
    "psi4.cubeprop(wfn)\n"
   ]
  },
  {
   "cell_type": "markdown",
   "id": "8cece883",
   "metadata": {},
   "source": [
    "4. Record the single-point energy in the table below. In addition, excecute the following cell to visualize the electrostatic potential. Which areas are most electron rich?"
   ]
  },
  {
   "cell_type": "code",
   "execution_count": null,
   "id": "06a66635",
   "metadata": {},
   "outputs": [],
   "source": [
    "## ESP visualization\n",
    "fig = moly.Figure(figsize=(400,400), surface=\"shiny\")\n",
    "fig.add_cube(file='ESP.cube')\n",
    "fig.show()"
   ]
  },
  {
   "cell_type": "markdown",
   "id": "a568e311",
   "metadata": {},
   "source": [
    "5. Repeat step 3 for a benzene-sodium complex. First build an optimize a geometry here:"
   ]
  },
  {
   "cell_type": "code",
   "execution_count": null,
   "id": "f8742fc3",
   "metadata": {},
   "outputs": [],
   "source": [
    "## geometry optimization\n",
    "mol = psi4.geometry(\"\"\"\n",
    "1 1\n",
    "\n",
    "\"\"\")\n",
    "\n",
    "psi4.optimize('hf/6-31g**')"
   ]
  },
  {
   "cell_type": "markdown",
   "id": "49645143",
   "metadata": {},
   "source": [
    "and then calculate the energy here:"
   ]
  },
  {
   "cell_type": "code",
   "execution_count": null,
   "id": "83916880",
   "metadata": {},
   "outputs": [],
   "source": [
    "## energy computation\n",
    "mol = psi4.geometry(\"\"\"\n",
    "1 1\n",
    "\n",
    "\"\"\")\n",
    "\n",
    "psi4.energy('hf/6-31g**')\n"
   ]
  },
  {
   "cell_type": "markdown",
   "id": "1555119b",
   "metadata": {},
   "source": [
    "6. The binding energy defines the strength and sign of interaction between the sodium cation and the benzene molecule. We can compute this value by subtracting the sodium and benzene energies from the complex energy. Calculate this quantity and add it to the table below."
   ]
  },
  {
   "cell_type": "code",
   "execution_count": null,
   "id": "cd070ac3",
   "metadata": {},
   "outputs": [],
   "source": []
  },
  {
   "cell_type": "markdown",
   "id": "83b60bb6",
   "metadata": {},
   "source": [
    "|System|Total Energy (kcal/mol)|Binding Energy (kcal/mol)|\n",
    "|-|-|-|\n",
    "|Na$^+$||N/A |\n",
    "|benzene||N/A|\n",
    "|Na$^+$-benzene|||"
   ]
  },
  {
   "cell_type": "markdown",
   "id": "a3434f94",
   "metadata": {},
   "source": [
    "## Part 2. Substitution Effects\n",
    "\n",
    "In Part 2, we will repeat the above exercise for three additional aromatic compounds. We will use the same level of theory throughout, so no need to recompute the sodium atom's energy. To start, choose three of the following molecules:\n",
    "\n",
    " 1. fluorobenzene\n",
    " 2. phenol\n",
    " 3. aniline\n",
    " 4. phenylborane\n",
    " 5. chlorobenzene\n",
    " 6. benzonitrile\n",
    " 7. 1,4-diflurobenzene\n",
    " 8. cyclohexane\n",
    " 9. pyridine\n",
    " 10. 1H-pyrole\n",
    " 11. furan\n",
    " 12. 1H-imidazole\n",
    " 13. 1H-indole\n",
    " 14. naphthalene\n",
    " 15. azulene"
   ]
  },
  {
   "cell_type": "markdown",
   "id": "345a2705",
   "metadata": {},
   "source": [
    "### Aromatic 1."
   ]
  },
  {
   "cell_type": "code",
   "execution_count": null,
   "id": "a34e2b39",
   "metadata": {},
   "outputs": [],
   "source": [
    "# Geometry optimization for aromatic 1\n",
    "mol = psi4.geometry(\"\"\"\n",
    "\n",
    "\"\"\")\n",
    "\n",
    "psi4.optimize('hf/6-31g**')"
   ]
  },
  {
   "cell_type": "code",
   "execution_count": null,
   "id": "10ea6f1f",
   "metadata": {},
   "outputs": [],
   "source": [
    "# energy computation for aromatic 1\n",
    "mol = psi4.geometry(\"\"\"\n",
    "\n",
    "\"\"\")\n",
    "\n",
    "\n",
    "psi4.set_options({\"cubeprop_tasks\":['ESP'], 'cubic_grid_overage':[4.0,4.0,8.0], 'cubic_grid_spacing':[0.4,0.4,0.4]})\n",
    "E, wfn1 = psi4.energy('hf/6-31g**', return_wfn=True)\n",
    "psi4.cubeprop(wfn1)"
   ]
  },
  {
   "cell_type": "code",
   "execution_count": null,
   "id": "80bf9772",
   "metadata": {},
   "outputs": [],
   "source": [
    "# Geometry optimization fro Na-aromatic 1\n",
    "mol = psi4.geometry(\"\"\"\n",
    "\n",
    "\"\"\")\n",
    "\n",
    "psi4.optimize('hf/6-31g**')"
   ]
  },
  {
   "cell_type": "code",
   "execution_count": null,
   "id": "9dd5d078",
   "metadata": {},
   "outputs": [],
   "source": [
    "# energy computation for Na-aromatic 1\n",
    "mol = psi4.geometry(\"\"\"\n",
    "\n",
    "\"\"\")\n",
    "\n",
    "psi4.energy('hf/6-31g**')"
   ]
  },
  {
   "cell_type": "code",
   "execution_count": null,
   "id": "ea6f6cf7",
   "metadata": {},
   "outputs": [],
   "source": [
    "# Plot the ESP\n",
    "fig = moly.Figure(figsize=(400,400), surface=\"shiny\")\n",
    "fig.add_cube(file='ESP.cube')\n",
    "fig.show()"
   ]
  },
  {
   "cell_type": "code",
   "execution_count": null,
   "id": "8a47b886",
   "metadata": {},
   "outputs": [],
   "source": [
    "# Calculate the binding energy below:"
   ]
  },
  {
   "cell_type": "markdown",
   "id": "dc84fc7e",
   "metadata": {},
   "source": [
    "### Aromatic 2."
   ]
  },
  {
   "cell_type": "code",
   "execution_count": null,
   "id": "cbe3d161",
   "metadata": {},
   "outputs": [],
   "source": [
    "# Geometry optimization for aromatic 2\n",
    "mol = psi4.geometry(\"\"\"\n",
    "\n",
    "\"\"\")\n",
    "\n",
    "psi4.optimize('hf/6-31g**')"
   ]
  },
  {
   "cell_type": "code",
   "execution_count": null,
   "id": "81a811ac",
   "metadata": {},
   "outputs": [],
   "source": [
    "# energy computation for aromatic 2\n",
    "mol = psi4.geometry(\"\"\"\n",
    "\n",
    "\"\"\")\n",
    "\n",
    "psi4.set_options({\"cubeprop_tasks\":['ESP'], 'cubic_grid_overage':[4.0,4.0,8.0], 'cubic_grid_spacing':[0.4,0.4,0.4]})\n",
    "E, wfn2 = psi4.energy('hf/6-31g**', return_wfn=True)\n",
    "psi4.cubeprop(wfn2)"
   ]
  },
  {
   "cell_type": "code",
   "execution_count": null,
   "id": "1be40344",
   "metadata": {},
   "outputs": [],
   "source": [
    "# Geometry optimization fro Na-aromatic 2\n",
    "mol = psi4.geometry(\"\"\"\n",
    "\n",
    "\"\"\")\n",
    "\n",
    "psi4.optimize('hf/6-31g**')"
   ]
  },
  {
   "cell_type": "code",
   "execution_count": null,
   "id": "de74d561",
   "metadata": {},
   "outputs": [],
   "source": [
    "# energy computation for Na-aromatic 2\n",
    "mol = psi4.geometry(\"\"\"\n",
    "\n",
    "\"\"\")\n",
    "\n",
    "psi4.energy('hf/6-31g**')"
   ]
  },
  {
   "cell_type": "code",
   "execution_count": null,
   "id": "4bed6b0c",
   "metadata": {},
   "outputs": [],
   "source": [
    "# Plot the ESP\n",
    "fig = moly.Figure(figsize=(400,400), surface=\"shiny\")\n",
    "fig.add_cube(file='ESP.cube')\n",
    "fig.show()"
   ]
  },
  {
   "cell_type": "code",
   "execution_count": null,
   "id": "01a3032c",
   "metadata": {},
   "outputs": [],
   "source": [
    "# Calculate the binding energy below:"
   ]
  },
  {
   "cell_type": "markdown",
   "id": "c97c69f0",
   "metadata": {},
   "source": [
    "### Aromatic 3."
   ]
  },
  {
   "cell_type": "code",
   "execution_count": null,
   "id": "38c42ed0",
   "metadata": {},
   "outputs": [],
   "source": [
    "# Geometry optimization for aromatic 3\n",
    "mol = psi4.geometry(\"\"\"\n",
    "\n",
    "\"\"\")\n",
    "\n",
    "psi4.optimize('hf/6-31g**')"
   ]
  },
  {
   "cell_type": "code",
   "execution_count": null,
   "id": "96ecda01",
   "metadata": {},
   "outputs": [],
   "source": [
    "# energy computation for aromatic 3\n",
    "mol = psi4.geometry(\"\"\"\n",
    "\n",
    "\"\"\")\n",
    "\n",
    "psi4.set_options({\"cubeprop_tasks\":['ESP'], 'cubic_grid_overage':[4.0,4.0,8.0], 'cubic_grid_spacing':[0.4,0.4,0.4]})\n",
    "E, wfn3 = psi4.energy('hf/6-31g**', return_wfn=True)\n",
    "psi4.cubeprop(wfn3)"
   ]
  },
  {
   "cell_type": "code",
   "execution_count": null,
   "id": "a87cb1e6",
   "metadata": {},
   "outputs": [],
   "source": [
    "# Geometry optimization fro Na-aromatic 3\n",
    "mol = psi4.geometry(\"\"\"\n",
    "\n",
    "\"\"\")\n",
    "\n",
    "psi4.optimize('hf/6-31g**')"
   ]
  },
  {
   "cell_type": "code",
   "execution_count": null,
   "id": "c341d99a",
   "metadata": {},
   "outputs": [],
   "source": [
    "# energy computation for Na-aromatic 3\n",
    "mol = psi4.geometry(\"\"\"\n",
    "\n",
    "\"\"\")\n",
    "\n",
    "psi4.energy('hf/6-31g**')"
   ]
  },
  {
   "cell_type": "code",
   "execution_count": null,
   "id": "add33754",
   "metadata": {},
   "outputs": [],
   "source": [
    "# Plot the ESP\n",
    "fig = moly.Figure(figsize=(400,400), surface=\"shiny\")\n",
    "fig.add_cube(file='ESP.cube')\n",
    "fig.show()"
   ]
  },
  {
   "cell_type": "code",
   "execution_count": null,
   "id": "0d8e1c08",
   "metadata": {},
   "outputs": [],
   "source": [
    "# Calculate the binding energy below:"
   ]
  },
  {
   "cell_type": "markdown",
   "id": "7a2f5381",
   "metadata": {},
   "source": [
    "## Part 3. Data Tables and Questions\n",
    "\n",
    "Fill out the tables below with your data from parts 1 and 2. Be sure to type in the aromatic compounds you used (i.e., replace \"aromatic 1\" with the first one you used). Then, thoroughly answer the questions that follow using complete sentences."
   ]
  },
  {
   "cell_type": "markdown",
   "id": "393da208",
   "metadata": {},
   "source": [
    "|System|Total Energy (Hartree)|Binding Energy (kcal/mol)|\n",
    "|-|-|-|\n",
    "|Na$^{+}$|-|-|\n",
    "|Benzene|-|-|\n",
    "|Benzene-Na$^+$|-|-|\n",
    "|Aromatic 1|-|-|\n",
    "|Aromatic 1-Na$^+$|-|-|\n",
    "|Aromatic 2|-|-|\n",
    "|Aromatic 2-Na$^+$|-|-|\n",
    "|Aromatic 3|-|-|\n",
    "|Aromatic 3-Na$^+$|-|-|"
   ]
  },
  {
   "cell_type": "markdown",
   "id": "66d142f9",
   "metadata": {},
   "source": [
    "1. What atoms or functional groups most significantly changed the $\\pi$-electron cloud and, hence, location of the sodium cation as compared to benzene? Why?"
   ]
  },
  {
   "cell_type": "markdown",
   "id": "bcd9870f",
   "metadata": {},
   "source": []
  },
  {
   "cell_type": "markdown",
   "id": "0d5c09fd",
   "metadata": {},
   "source": [
    "2. Discuss the trends that you observe between the visual depiction of the electrostatic potentials for your four aromatic compounts and the strength of the binding energies. "
   ]
  },
  {
   "cell_type": "markdown",
   "id": "7c1caa2a",
   "metadata": {},
   "source": []
  },
  {
   "cell_type": "markdown",
   "id": "7fa579f2",
   "metadata": {},
   "source": [
    "3. Search the literature for an article that focuses on cation-$\\pi$ interactions and uses some computational tools to quantify them. Your article must be published in a chemistry journal, and it has to have been published in 2019 or more recently. Then, respond to the following questions, but be brief in your answers (I'm not looking for a long essay or anything). \n",
    "    - Provide a citation for the article\n",
    "    - What molecular system is the subject of the paper, and why do they say it is interesting/important to study?\n",
    "    - What do they use to study their selected cation-$\\pi$ interaction?\n",
    "    - What are their major findings?"
   ]
  },
  {
   "cell_type": "markdown",
   "id": "7bc915b5",
   "metadata": {},
   "source": []
  }
 ],
 "metadata": {
  "kernelspec": {
   "display_name": "Python 3 (ipykernel)",
   "language": "python",
   "name": "python3"
  },
  "language_info": {
   "codemirror_mode": {
    "name": "ipython",
    "version": 3
   },
   "file_extension": ".py",
   "mimetype": "text/x-python",
   "name": "python",
   "nbconvert_exporter": "python",
   "pygments_lexer": "ipython3",
   "version": "3.10.9"
  }
 },
 "nbformat": 4,
 "nbformat_minor": 5
}
